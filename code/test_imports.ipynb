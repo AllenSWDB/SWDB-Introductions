{
 "cells": [
  {
   "cell_type": "code",
   "execution_count": null,
   "id": "7741f7a2-3a5c-425a-89b2-a67780ebef42",
   "metadata": {},
   "outputs": [],
   "source": [
    "import sys\n",
    "sys.version"
   ]
  },
  {
   "cell_type": "code",
   "execution_count": null,
   "id": "6aa80db2-f7e0-4a9a-a22c-ab2bd5be3620",
   "metadata": {},
   "outputs": [],
   "source": [
    "import jax\n",
    "jax.__version__"
   ]
  },
  {
   "cell_type": "code",
   "execution_count": null,
   "id": "3ca5fded-aa8f-4c47-ba6f-562c761a9f4e",
   "metadata": {},
   "outputs": [],
   "source": [
    "import allensdk\n",
    "allensdk.__version__"
   ]
  },
  {
   "cell_type": "code",
   "execution_count": null,
   "id": "f8ee5463-2519-416d-b36a-7274f38d3299",
   "metadata": {},
   "outputs": [],
   "source": [
    "import caveclient\n",
    "caveclient.__version__"
   ]
  },
  {
   "cell_type": "code",
   "execution_count": null,
   "id": "5c6257d8-f5f2-4227-952a-aab75b3d3da4",
   "metadata": {},
   "outputs": [],
   "source": [
    "import hdmf\n",
    "hdmf.__version__"
   ]
  },
  {
   "cell_type": "code",
   "execution_count": null,
   "id": "261b2ab2-fb96-4d1d-898e-b62d6547650f",
   "metadata": {},
   "outputs": [],
   "source": []
  }
 ],
 "metadata": {
  "kernelspec": {
   "display_name": "Python 3 (ipykernel)",
   "language": "python",
   "name": "python3"
  },
  "language_info": {
   "codemirror_mode": {
    "name": "ipython",
    "version": 3
   },
   "file_extension": ".py",
   "mimetype": "text/x-python",
   "name": "python",
   "nbconvert_exporter": "python",
   "pygments_lexer": "ipython3",
   "version": "3.9.12"
  }
 },
 "nbformat": 4,
 "nbformat_minor": 5
}
