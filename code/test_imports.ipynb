{
 "cells": [
  {
   "cell_type": "code",
   "execution_count": 2,
   "id": "7741f7a2-3a5c-425a-89b2-a67780ebef42",
   "metadata": {
    "tags": []
   },
   "outputs": [
    {
     "data": {
      "text/plain": [
       "'3.9.12 (main, Apr  5 2022, 06:56:58) \\n[GCC 7.5.0]'"
      ]
     },
     "execution_count": 2,
     "metadata": {},
     "output_type": "execute_result"
    }
   ],
   "source": [
    "import sys\n",
    "sys.version"
   ]
  },
  {
   "cell_type": "code",
   "execution_count": 3,
   "id": "3b9430c6-1c3d-445d-b60a-9c28a4f10659",
   "metadata": {
    "tags": []
   },
   "outputs": [
    {
     "data": {
      "text/plain": [
       "['/opt/conda/lib/python39.zip',\n",
       " '/opt/conda/lib/python3.9',\n",
       " '/opt/conda/lib/python3.9/lib-dynload',\n",
       " '',\n",
       " '/opt/conda/lib/python3.9/site-packages',\n",
       " '/opt/conda/lib/python3.9/site-packages/setuptools/_vendor']"
      ]
     },
     "execution_count": 3,
     "metadata": {},
     "output_type": "execute_result"
    }
   ],
   "source": [
    "sys.path"
   ]
  },
  {
   "cell_type": "code",
   "execution_count": 4,
   "id": "6aa80db2-f7e0-4a9a-a22c-ab2bd5be3620",
   "metadata": {
    "tags": []
   },
   "outputs": [
    {
     "data": {
      "text/plain": [
       "'0.4.30'"
      ]
     },
     "execution_count": 4,
     "metadata": {},
     "output_type": "execute_result"
    }
   ],
   "source": [
    "import jax\n",
    "jax.__version__"
   ]
  },
  {
   "cell_type": "code",
   "execution_count": 5,
   "id": "3ca5fded-aa8f-4c47-ba6f-562c761a9f4e",
   "metadata": {
    "tags": []
   },
   "outputs": [
    {
     "data": {
      "text/plain": [
       "'2.16.2'"
      ]
     },
     "execution_count": 5,
     "metadata": {},
     "output_type": "execute_result"
    }
   ],
   "source": [
    "import allensdk\n",
    "allensdk.__version__"
   ]
  },
  {
   "cell_type": "code",
   "execution_count": 6,
   "id": "f8ee5463-2519-416d-b36a-7274f38d3299",
   "metadata": {
    "tags": []
   },
   "outputs": [
    {
     "data": {
      "text/plain": [
       "'5.22.0'"
      ]
     },
     "execution_count": 6,
     "metadata": {},
     "output_type": "execute_result"
    }
   ],
   "source": [
    "import caveclient\n",
    "caveclient.__version__"
   ]
  },
  {
   "cell_type": "code",
   "execution_count": 7,
   "id": "5c6257d8-f5f2-4227-952a-aab75b3d3da4",
   "metadata": {
    "tags": []
   },
   "outputs": [
    {
     "data": {
      "text/plain": [
       "'3.14.3'"
      ]
     },
     "execution_count": 7,
     "metadata": {},
     "output_type": "execute_result"
    }
   ],
   "source": [
    "import hdmf\n",
    "hdmf.__version__"
   ]
  },
  {
   "cell_type": "code",
   "execution_count": 1,
   "id": "261b2ab2-fb96-4d1d-898e-b62d6547650f",
   "metadata": {
    "tags": []
   },
   "outputs": [],
   "source": [
    "import jaraco.classes"
   ]
  },
  {
   "cell_type": "code",
   "execution_count": 9,
   "id": "ee640edb-e8ac-478c-8477-50c01c893bd8",
   "metadata": {
    "tags": []
   },
   "outputs": [
    {
     "data": {
      "text/plain": [
       "'/opt/conda/lib/python3.9/site-packages/allensdk/__init__.py'"
      ]
     },
     "execution_count": 9,
     "metadata": {},
     "output_type": "execute_result"
    }
   ],
   "source": [
    "allensdk.__file__"
   ]
  },
  {
   "cell_type": "code",
   "execution_count": 10,
   "id": "b8b4ae40-6f55-4b90-83d0-10b04c6c5140",
   "metadata": {
    "tags": []
   },
   "outputs": [],
   "source": [
    "import jaraco"
   ]
  },
  {
   "cell_type": "code",
   "execution_count": 11,
   "id": "70c0b8c3-e0a7-4d47-a37d-63eba2179a67",
   "metadata": {
    "tags": []
   },
   "outputs": [
    {
     "ename": "ModuleNotFoundError",
     "evalue": "No module named 'jaraco.classes'",
     "output_type": "error",
     "traceback": [
      "\u001b[0;31m---------------------------------------------------------------------------\u001b[0m",
      "\u001b[0;31mModuleNotFoundError\u001b[0m                       Traceback (most recent call last)",
      "Cell \u001b[0;32mIn[11], line 1\u001b[0m\n\u001b[0;32m----> 1\u001b[0m \u001b[38;5;28;01mimport\u001b[39;00m \u001b[38;5;21;01mjaraco\u001b[39;00m\u001b[38;5;21;01m.\u001b[39;00m\u001b[38;5;21;01mclasses\u001b[39;00m\n",
      "\u001b[0;31mModuleNotFoundError\u001b[0m: No module named 'jaraco.classes'"
     ]
    }
   ],
   "source": [
    "import jaraco.classes"
   ]
  },
  {
   "cell_type": "code",
   "execution_count": 3,
   "id": "d7247707-b8bd-48d5-b31c-2ed3da771033",
   "metadata": {
    "tags": []
   },
   "outputs": [],
   "source": [
    "from jaraco import classes"
   ]
  },
  {
   "cell_type": "code",
   "execution_count": 2,
   "id": "36c50528-dc59-4e21-a368-2c3be50a31bd",
   "metadata": {
    "tags": []
   },
   "outputs": [],
   "source": [
    "jaraco.__file__"
   ]
  },
  {
   "cell_type": "code",
   "execution_count": null,
   "id": "f4d1a1cf-8298-445b-bfd7-f6e58a681f5a",
   "metadata": {},
   "outputs": [],
   "source": []
  }
 ],
 "metadata": {
  "kernelspec": {
   "display_name": "Python 3 (ipykernel)",
   "language": "python",
   "name": "python3"
  },
  "language_info": {
   "codemirror_mode": {
    "name": "ipython",
    "version": 3
   },
   "file_extension": ".py",
   "mimetype": "text/x-python",
   "name": "python",
   "nbconvert_exporter": "python",
   "pygments_lexer": "ipython3",
   "version": "3.9.12"
  }
 },
 "nbformat": 4,
 "nbformat_minor": 5
}
