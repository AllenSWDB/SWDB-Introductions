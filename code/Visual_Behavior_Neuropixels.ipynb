{
 "cells": [
  {
   "cell_type": "markdown",
   "id": "68a28c4c-562f-4185-b675-cc8179f740e8",
   "metadata": {},
   "source": [
    "![cropped-SummerWorkshop_Header.png](resources/banner.jpg)"
   ]
  },
  {
   "cell_type": "markdown",
   "id": "582f3c93-a486-4d2d-a294-ef5bf49de584",
   "metadata": {},
   "source": [
    "<h1 align=\"center\">Allen Brain Observatory Visual Behavior Neuropixels </h1> \n",
    "<h2 align=\"center\"> SWDB 2024 - Day 1 </h2> \n",
    "<h3 align=\"center\"> Afternoon Session </h3> "
   ]
  },
  {
   "cell_type": "markdown",
   "id": "4e6ab3b9-a3a9-44c7-80b5-e0b8103af48b",
   "metadata": {},
   "source": [
    "**Databook**\n",
    "\n",
    "The databook is your one-stop-shop for understanding the various dimensions of this dataset, the methods used, and how to access the data that you are interested in. \n",
    "\n",
    "You can find the pages for the Visual Behavior Ophys dataset here: https://allenswdb.github.io/physiology/ephys/visual-behavior/VB-Neuropixels.html\n",
    "\n",
    "![vbo_databook.png](resources/databook_vbnp.png)"
   ]
  },
  {
   "cell_type": "code",
   "execution_count": 1,
   "id": "0a6e8b5d-68e3-4e3b-9969-a08f543f8eff",
   "metadata": {
    "tags": []
   },
   "outputs": [],
   "source": [
    "import numpy as np\n",
    "import matplotlib.pyplot as plt\n",
    "import pandas as pd\n",
    "from allensdk.brain_observatory.behavior.behavior_project_cache import VisualBehaviorNeuropixelsProjectCache\n",
    "\n",
    "pd.set_option('display.max_columns', None)\n",
    "%matplotlib inline"
   ]
  },
  {
   "cell_type": "code",
   "execution_count": 2,
   "id": "376e61c2-8fef-4616-b138-ab6f413cbc5e",
   "metadata": {
    "tags": []
   },
   "outputs": [],
   "source": [
    "import warnings\n",
    "warnings.filterwarnings('ignore')"
   ]
  },
  {
   "cell_type": "code",
   "execution_count": 3,
   "id": "1e1163a1-f233-420d-8903-bdffca830797",
   "metadata": {
    "tags": []
   },
   "outputs": [],
   "source": [
    "import platform\n",
    "platstring = platform.platform()\n",
    "\n",
    "if 'Darwin' in platstring:\n",
    "    # macOS \n",
    "    data_root = \"/Volumes/Brain2023/\"\n",
    "elif 'Windows'  in platstring:\n",
    "    # Windows (replace with the drive letter of USB drive)\n",
    "    data_root = \"E:/\"\n",
    "elif ('amzn' in platstring):\n",
    "    # then on CodeOcean\n",
    "    data_root = \"/data/\"\n",
    "else:\n",
    "    # then your own linux platform\n",
    "    # EDIT location where you mounted hard drive\n",
    "    data_root = \"/media/$USERNAME/Brain2023/\""
   ]
  },
  {
   "cell_type": "markdown",
   "id": "9c2713ef-9106-4371-94b2-2b6747dd3ec6",
   "metadata": {},
   "source": [
    "# Outline"
   ]
  },
  {
   "cell_type": "markdown",
   "id": "da032a35-19cf-4019-84e5-c95ce23b07b4",
   "metadata": {},
   "source": [
    "## VBN data structures\n",
    "#### 1. VBN cache object\n",
    "#### 2. \"Sessions\" table\n",
    "#### 3. \"Units\" table\n",
    "#### 4. Session object\n",
    "#### 5. \"Stimulus\" table\n",
    "#### 6. \"Trials\" table"
   ]
  },
  {
   "cell_type": "markdown",
   "id": "2b094140-d8a6-4a90-a8bb-e097bafda439",
   "metadata": {},
   "source": [
    "# 1. VBN cache object"
   ]
  },
  {
   "cell_type": "markdown",
   "id": "6cc13473-e205-4932-90f9-798f46efab3c",
   "metadata": {},
   "source": [
    "* Access to metadata tables describing the entire dataset\n",
    "* Tools for downloading data (as NWB files)\n",
    "* Tools for instantiating \"Session\" objects from NWB files"
   ]
  },
  {
   "cell_type": "code",
   "execution_count": 4,
   "id": "91d3e266-f04e-49b4-9b4f-27a105333c68",
   "metadata": {
    "tags": []
   },
   "outputs": [],
   "source": [
    "cache = VisualBehaviorNeuropixelsProjectCache.from_local_cache(cache_dir=data_root, use_static_cache=True)"
   ]
  },
  {
   "cell_type": "markdown",
   "id": "9d2d15eb-3af5-4c98-9f7d-aa7841e54f83",
   "metadata": {},
   "source": [
    "# 2. \"Sessions\" table"
   ]
  },
  {
   "cell_type": "code",
   "execution_count": 5,
   "id": "d51865ee-7588-4f53-b43c-0784b24a52a3",
   "metadata": {
    "tags": []
   },
   "outputs": [],
   "source": [
    "sessions = cache.get_ecephys_session_table()"
   ]
  },
  {
   "cell_type": "code",
   "execution_count": 6,
   "id": "6e28fe19-9283-46f6-b3ab-2d49125a43f6",
   "metadata": {
    "tags": []
   },
   "outputs": [
    {
     "data": {
      "text/html": [
       "<div>\n",
       "<style scoped>\n",
       "    .dataframe tbody tr th:only-of-type {\n",
       "        vertical-align: middle;\n",
       "    }\n",
       "\n",
       "    .dataframe tbody tr th {\n",
       "        vertical-align: top;\n",
       "    }\n",
       "\n",
       "    .dataframe thead th {\n",
       "        text-align: right;\n",
       "    }\n",
       "</style>\n",
       "<table border=\"1\" class=\"dataframe\">\n",
       "  <thead>\n",
       "    <tr style=\"text-align: right;\">\n",
       "      <th></th>\n",
       "      <th>behavior_session_id</th>\n",
       "      <th>date_of_acquisition</th>\n",
       "      <th>equipment_name</th>\n",
       "      <th>session_type</th>\n",
       "      <th>mouse_id</th>\n",
       "      <th>genotype</th>\n",
       "      <th>sex</th>\n",
       "      <th>project_code</th>\n",
       "      <th>age_in_days</th>\n",
       "      <th>unit_count</th>\n",
       "      <th>probe_count</th>\n",
       "      <th>channel_count</th>\n",
       "      <th>structure_acronyms</th>\n",
       "      <th>image_set</th>\n",
       "      <th>prior_exposures_to_image_set</th>\n",
       "      <th>session_number</th>\n",
       "      <th>experience_level</th>\n",
       "      <th>prior_exposures_to_omissions</th>\n",
       "      <th>file_id</th>\n",
       "      <th>abnormal_histology</th>\n",
       "      <th>abnormal_activity</th>\n",
       "    </tr>\n",
       "    <tr>\n",
       "      <th>ecephys_session_id</th>\n",
       "      <th></th>\n",
       "      <th></th>\n",
       "      <th></th>\n",
       "      <th></th>\n",
       "      <th></th>\n",
       "      <th></th>\n",
       "      <th></th>\n",
       "      <th></th>\n",
       "      <th></th>\n",
       "      <th></th>\n",
       "      <th></th>\n",
       "      <th></th>\n",
       "      <th></th>\n",
       "      <th></th>\n",
       "      <th></th>\n",
       "      <th></th>\n",
       "      <th></th>\n",
       "      <th></th>\n",
       "      <th></th>\n",
       "      <th></th>\n",
       "      <th></th>\n",
       "    </tr>\n",
       "  </thead>\n",
       "  <tbody>\n",
       "    <tr>\n",
       "      <th>1044385384</th>\n",
       "      <td>1044408432</td>\n",
       "      <td>2020-08-19 14:47:08.574000+00:00</td>\n",
       "      <td>NP.1</td>\n",
       "      <td>EPHYS_1_images_G_5uL_reward</td>\n",
       "      <td>524761</td>\n",
       "      <td>wt/wt</td>\n",
       "      <td>F</td>\n",
       "      <td>NeuropixelVisualBehavior</td>\n",
       "      <td>151</td>\n",
       "      <td>2179</td>\n",
       "      <td>5</td>\n",
       "      <td>1920</td>\n",
       "      <td>['CA1', 'CA3', 'DG-mo', 'DG-po', 'DG-sg', 'LGv...</td>\n",
       "      <td>G</td>\n",
       "      <td>30</td>\n",
       "      <td>1</td>\n",
       "      <td>Familiar</td>\n",
       "      <td>0</td>\n",
       "      <td>870</td>\n",
       "      <td>NaN</td>\n",
       "      <td>NaN</td>\n",
       "    </tr>\n",
       "    <tr>\n",
       "      <th>1044594870</th>\n",
       "      <td>1044624428</td>\n",
       "      <td>2020-08-20 15:03:56.422000+00:00</td>\n",
       "      <td>NP.1</td>\n",
       "      <td>EPHYS_1_images_H_5uL_reward</td>\n",
       "      <td>524761</td>\n",
       "      <td>wt/wt</td>\n",
       "      <td>F</td>\n",
       "      <td>NeuropixelVisualBehavior</td>\n",
       "      <td>152</td>\n",
       "      <td>2103</td>\n",
       "      <td>5</td>\n",
       "      <td>1920</td>\n",
       "      <td>['CA1', 'CA3', 'DG-mo', 'DG-po', 'DG-sg', 'HPF...</td>\n",
       "      <td>H</td>\n",
       "      <td>0</td>\n",
       "      <td>2</td>\n",
       "      <td>Novel</td>\n",
       "      <td>1</td>\n",
       "      <td>872</td>\n",
       "      <td>NaN</td>\n",
       "      <td>NaN</td>\n",
       "    </tr>\n",
       "    <tr>\n",
       "      <th>1047969464</th>\n",
       "      <td>1048005547</td>\n",
       "      <td>2020-09-02 14:53:14.347000+00:00</td>\n",
       "      <td>NP.1</td>\n",
       "      <td>EPHYS_1_images_G_3uL_reward</td>\n",
       "      <td>509808</td>\n",
       "      <td>Sst-IRES-Cre/wt;Ai32(RCL-ChR2(H134R)_EYFP)/wt</td>\n",
       "      <td>M</td>\n",
       "      <td>NeuropixelVisualBehavior</td>\n",
       "      <td>263</td>\n",
       "      <td>2438</td>\n",
       "      <td>6</td>\n",
       "      <td>2304</td>\n",
       "      <td>['APN', 'CA1', 'CA3', 'DG-mo', 'DG-po', 'DG-sg...</td>\n",
       "      <td>G</td>\n",
       "      <td>62</td>\n",
       "      <td>1</td>\n",
       "      <td>Familiar</td>\n",
       "      <td>0</td>\n",
       "      <td>877</td>\n",
       "      <td>NaN</td>\n",
       "      <td>NaN</td>\n",
       "    </tr>\n",
       "    <tr>\n",
       "      <th>1047977240</th>\n",
       "      <td>1048009327</td>\n",
       "      <td>2020-09-02 15:15:03.733000+00:00</td>\n",
       "      <td>NP.0</td>\n",
       "      <td>EPHYS_1_images_G_3uL_reward</td>\n",
       "      <td>524925</td>\n",
       "      <td>Sst-IRES-Cre/wt;Ai32(RCL-ChR2(H134R)_EYFP)/wt</td>\n",
       "      <td>F</td>\n",
       "      <td>NeuropixelVisualBehavior</td>\n",
       "      <td>165</td>\n",
       "      <td>1856</td>\n",
       "      <td>6</td>\n",
       "      <td>2304</td>\n",
       "      <td>['APN', 'CA1', 'CA3', 'DG-mo', 'DG-po', 'DG-sg...</td>\n",
       "      <td>G</td>\n",
       "      <td>51</td>\n",
       "      <td>1</td>\n",
       "      <td>Familiar</td>\n",
       "      <td>0</td>\n",
       "      <td>878</td>\n",
       "      <td>NaN</td>\n",
       "      <td>NaN</td>\n",
       "    </tr>\n",
       "    <tr>\n",
       "      <th>1048189115</th>\n",
       "      <td>1048221709</td>\n",
       "      <td>2020-09-03 14:16:57.913000+00:00</td>\n",
       "      <td>NP.1</td>\n",
       "      <td>EPHYS_1_images_H_3uL_reward</td>\n",
       "      <td>509808</td>\n",
       "      <td>Sst-IRES-Cre/wt;Ai32(RCL-ChR2(H134R)_EYFP)/wt</td>\n",
       "      <td>M</td>\n",
       "      <td>NeuropixelVisualBehavior</td>\n",
       "      <td>264</td>\n",
       "      <td>1925</td>\n",
       "      <td>6</td>\n",
       "      <td>2304</td>\n",
       "      <td>['APN', 'CA1', 'CA3', 'DG-mo', 'DG-po', 'DG-sg...</td>\n",
       "      <td>H</td>\n",
       "      <td>0</td>\n",
       "      <td>2</td>\n",
       "      <td>Novel</td>\n",
       "      <td>1</td>\n",
       "      <td>879</td>\n",
       "      <td>NaN</td>\n",
       "      <td>NaN</td>\n",
       "    </tr>\n",
       "  </tbody>\n",
       "</table>\n",
       "</div>"
      ],
      "text/plain": [
       "                    behavior_session_id               date_of_acquisition  \\\n",
       "ecephys_session_id                                                          \n",
       "1044385384                   1044408432  2020-08-19 14:47:08.574000+00:00   \n",
       "1044594870                   1044624428  2020-08-20 15:03:56.422000+00:00   \n",
       "1047969464                   1048005547  2020-09-02 14:53:14.347000+00:00   \n",
       "1047977240                   1048009327  2020-09-02 15:15:03.733000+00:00   \n",
       "1048189115                   1048221709  2020-09-03 14:16:57.913000+00:00   \n",
       "\n",
       "                   equipment_name                 session_type  mouse_id  \\\n",
       "ecephys_session_id                                                         \n",
       "1044385384                   NP.1  EPHYS_1_images_G_5uL_reward    524761   \n",
       "1044594870                   NP.1  EPHYS_1_images_H_5uL_reward    524761   \n",
       "1047969464                   NP.1  EPHYS_1_images_G_3uL_reward    509808   \n",
       "1047977240                   NP.0  EPHYS_1_images_G_3uL_reward    524925   \n",
       "1048189115                   NP.1  EPHYS_1_images_H_3uL_reward    509808   \n",
       "\n",
       "                                                         genotype sex  \\\n",
       "ecephys_session_id                                                      \n",
       "1044385384                                                  wt/wt   F   \n",
       "1044594870                                                  wt/wt   F   \n",
       "1047969464          Sst-IRES-Cre/wt;Ai32(RCL-ChR2(H134R)_EYFP)/wt   M   \n",
       "1047977240          Sst-IRES-Cre/wt;Ai32(RCL-ChR2(H134R)_EYFP)/wt   F   \n",
       "1048189115          Sst-IRES-Cre/wt;Ai32(RCL-ChR2(H134R)_EYFP)/wt   M   \n",
       "\n",
       "                                project_code  age_in_days  unit_count  \\\n",
       "ecephys_session_id                                                      \n",
       "1044385384          NeuropixelVisualBehavior          151        2179   \n",
       "1044594870          NeuropixelVisualBehavior          152        2103   \n",
       "1047969464          NeuropixelVisualBehavior          263        2438   \n",
       "1047977240          NeuropixelVisualBehavior          165        1856   \n",
       "1048189115          NeuropixelVisualBehavior          264        1925   \n",
       "\n",
       "                    probe_count  channel_count  \\\n",
       "ecephys_session_id                               \n",
       "1044385384                    5           1920   \n",
       "1044594870                    5           1920   \n",
       "1047969464                    6           2304   \n",
       "1047977240                    6           2304   \n",
       "1048189115                    6           2304   \n",
       "\n",
       "                                                   structure_acronyms  \\\n",
       "ecephys_session_id                                                      \n",
       "1044385384          ['CA1', 'CA3', 'DG-mo', 'DG-po', 'DG-sg', 'LGv...   \n",
       "1044594870          ['CA1', 'CA3', 'DG-mo', 'DG-po', 'DG-sg', 'HPF...   \n",
       "1047969464          ['APN', 'CA1', 'CA3', 'DG-mo', 'DG-po', 'DG-sg...   \n",
       "1047977240          ['APN', 'CA1', 'CA3', 'DG-mo', 'DG-po', 'DG-sg...   \n",
       "1048189115          ['APN', 'CA1', 'CA3', 'DG-mo', 'DG-po', 'DG-sg...   \n",
       "\n",
       "                   image_set  prior_exposures_to_image_set  session_number  \\\n",
       "ecephys_session_id                                                           \n",
       "1044385384                 G                            30               1   \n",
       "1044594870                 H                             0               2   \n",
       "1047969464                 G                            62               1   \n",
       "1047977240                 G                            51               1   \n",
       "1048189115                 H                             0               2   \n",
       "\n",
       "                   experience_level  prior_exposures_to_omissions  file_id  \\\n",
       "ecephys_session_id                                                           \n",
       "1044385384                 Familiar                             0      870   \n",
       "1044594870                    Novel                             1      872   \n",
       "1047969464                 Familiar                             0      877   \n",
       "1047977240                 Familiar                             0      878   \n",
       "1048189115                    Novel                             1      879   \n",
       "\n",
       "                   abnormal_histology abnormal_activity  \n",
       "ecephys_session_id                                       \n",
       "1044385384                        NaN               NaN  \n",
       "1044594870                        NaN               NaN  \n",
       "1047969464                        NaN               NaN  \n",
       "1047977240                        NaN               NaN  \n",
       "1048189115                        NaN               NaN  "
      ]
     },
     "execution_count": 6,
     "metadata": {},
     "output_type": "execute_result"
    }
   ],
   "source": [
    "sessions.head()"
   ]
  },
  {
   "cell_type": "markdown",
   "id": "bfc4884c-e322-418c-b373-808fc053cd4d",
   "metadata": {
    "tags": []
   },
   "source": [
    "## How many experimental sessions in dataset?"
   ]
  },
  {
   "cell_type": "code",
   "execution_count": 7,
   "id": "88d9e24b-20cb-45fd-8f7e-9fa51dd68b32",
   "metadata": {
    "tags": []
   },
   "outputs": [
    {
     "data": {
      "text/plain": [
       "103"
      ]
     },
     "execution_count": 7,
     "metadata": {},
     "output_type": "execute_result"
    }
   ],
   "source": [
    "len(sessions)"
   ]
  },
  {
   "cell_type": "code",
   "execution_count": 8,
   "id": "1892bf7e-325f-47b5-9141-4a92bf5c7c91",
   "metadata": {
    "tags": []
   },
   "outputs": [
    {
     "data": {
      "text/plain": [
       "Sst-IRES-Cre/wt;Ai32(RCL-ChR2(H134R)_EYFP)/wt    43\n",
       "wt/wt                                            38\n",
       "Vip-IRES-Cre/wt;Ai32(RCL-ChR2(H134R)_EYFP)/wt    22\n",
       "Name: genotype, dtype: int64"
      ]
     },
     "execution_count": 8,
     "metadata": {},
     "output_type": "execute_result"
    }
   ],
   "source": [
    "sessions.genotype.value_counts()"
   ]
  },
  {
   "cell_type": "markdown",
   "id": "7ff7c1ef-8638-4340-b716-a733952d7456",
   "metadata": {},
   "source": [
    "## How many units recorded per experiment?"
   ]
  },
  {
   "cell_type": "code",
   "execution_count": 9,
   "id": "cb279283-775a-4f94-a677-242c53dd17ed",
   "metadata": {
    "tags": []
   },
   "outputs": [
    {
     "data": {
      "text/plain": [
       "Text(0, 0.5, '# of sessions')"
      ]
     },
     "execution_count": 9,
     "metadata": {},
     "output_type": "execute_result"
    },
    {
     "data": {
      "image/png": "[encoded data removed]",
      "text/plain": [
       "<Figure size 640x480 with 1 Axes>"
      ]
     },
     "metadata": {},
     "output_type": "display_data"
    }
   ],
   "source": [
    "plt.hist(sessions.unit_count)\n",
    "plt.xlabel('# of units recorded per session')\n",
    "plt.ylabel('# of sessions')"
   ]
  },
  {
   "cell_type": "markdown",
   "id": "457abd61-09a6-41b4-bacb-24ea44c16926",
   "metadata": {
    "tags": []
   },
   "source": [
    "# 3. \"Units\" table"
   ]
  },
  {
   "cell_type": "code",
   "execution_count": 10,
   "id": "a3087098-e84d-4512-8727-47a1d8d56255",
   "metadata": {
    "tags": []
   },
   "outputs": [],
   "source": [
    "units = cache.get_unit_table()"
   ]
  },
  {
   "cell_type": "code",
   "execution_count": 11,
   "id": "cad0e834-ebc5-47e1-b532-979855f0ba21",
   "metadata": {
    "tags": []
   },
   "outputs": [
    {
     "data": {
      "text/html": [
       "<div>\n",
       "<style scoped>\n",
       "    .dataframe tbody tr th:only-of-type {\n",
       "        vertical-align: middle;\n",
       "    }\n",
       "\n",
       "    .dataframe tbody tr th {\n",
       "        vertical-align: top;\n",
       "    }\n",
       "\n",
       "    .dataframe thead th {\n",
       "        text-align: right;\n",
       "    }\n",
       "</style>\n",
       "<table border=\"1\" class=\"dataframe\">\n",
       "  <thead>\n",
       "    <tr style=\"text-align: right;\">\n",
       "      <th></th>\n",
       "      <th>ecephys_channel_id</th>\n",
       "      <th>ecephys_probe_id</th>\n",
       "      <th>ecephys_session_id</th>\n",
       "      <th>amplitude_cutoff</th>\n",
       "      <th>anterior_posterior_ccf_coordinate</th>\n",
       "      <th>dorsal_ventral_ccf_coordinate</th>\n",
       "      <th>left_right_ccf_coordinate</th>\n",
       "      <th>cumulative_drift</th>\n",
       "      <th>d_prime</th>\n",
       "      <th>structure_acronym</th>\n",
       "      <th>structure_id</th>\n",
       "      <th>firing_rate</th>\n",
       "      <th>isi_violations</th>\n",
       "      <th>isolation_distance</th>\n",
       "      <th>l_ratio</th>\n",
       "      <th>local_index</th>\n",
       "      <th>max_drift</th>\n",
       "      <th>nn_hit_rate</th>\n",
       "      <th>nn_miss_rate</th>\n",
       "      <th>presence_ratio</th>\n",
       "      <th>probe_horizontal_position</th>\n",
       "      <th>probe_vertical_position</th>\n",
       "      <th>silhouette_score</th>\n",
       "      <th>snr</th>\n",
       "      <th>quality</th>\n",
       "      <th>valid_data</th>\n",
       "      <th>amplitude</th>\n",
       "      <th>waveform_duration</th>\n",
       "      <th>waveform_halfwidth</th>\n",
       "      <th>PT_ratio</th>\n",
       "      <th>recovery_slope</th>\n",
       "      <th>repolarization_slope</th>\n",
       "      <th>spread</th>\n",
       "      <th>velocity_above</th>\n",
       "      <th>velocity_below</th>\n",
       "    </tr>\n",
       "    <tr>\n",
       "      <th>unit_id</th>\n",
       "      <th></th>\n",
       "      <th></th>\n",
       "      <th></th>\n",
       "      <th></th>\n",
       "      <th></th>\n",
       "      <th></th>\n",
       "      <th></th>\n",
       "      <th></th>\n",
       "      <th></th>\n",
       "      <th></th>\n",
       "      <th></th>\n",
       "      <th></th>\n",
       "      <th></th>\n",
       "      <th></th>\n",
       "      <th></th>\n",
       "      <th></th>\n",
       "      <th></th>\n",
       "      <th></th>\n",
       "      <th></th>\n",
       "      <th></th>\n",
       "      <th></th>\n",
       "      <th></th>\n",
       "      <th></th>\n",
       "      <th></th>\n",
       "      <th></th>\n",
       "      <th></th>\n",
       "      <th></th>\n",
       "      <th></th>\n",
       "      <th></th>\n",
       "      <th></th>\n",
       "      <th></th>\n",
       "      <th></th>\n",
       "      <th></th>\n",
       "      <th></th>\n",
       "      <th></th>\n",
       "    </tr>\n",
       "  </thead>\n",
       "  <tbody>\n",
       "    <tr>\n",
       "      <th>1157005856</th>\n",
       "      <td>1157001834</td>\n",
       "      <td>1046469925</td>\n",
       "      <td>1046166369</td>\n",
       "      <td>0.500000</td>\n",
       "      <td>8453.0</td>\n",
       "      <td>3353.0</td>\n",
       "      <td>6719.0</td>\n",
       "      <td>140.32</td>\n",
       "      <td>6.088133</td>\n",
       "      <td>MB</td>\n",
       "      <td>313</td>\n",
       "      <td>0.931674</td>\n",
       "      <td>0.267220</td>\n",
       "      <td>57.655071</td>\n",
       "      <td>0.000560</td>\n",
       "      <td>103</td>\n",
       "      <td>14.75</td>\n",
       "      <td>0.908333</td>\n",
       "      <td>0.000134</td>\n",
       "      <td>0.63</td>\n",
       "      <td>59.0</td>\n",
       "      <td>760.0</td>\n",
       "      <td>0.080785</td>\n",
       "      <td>3.002051</td>\n",
       "      <td>noise</td>\n",
       "      <td>True</td>\n",
       "      <td>143.066332</td>\n",
       "      <td>0.151089</td>\n",
       "      <td>0.096147</td>\n",
       "      <td>0.310791</td>\n",
       "      <td>-0.113863</td>\n",
       "      <td>0.480656</td>\n",
       "      <td>20.0</td>\n",
       "      <td>-0.457845</td>\n",
       "      <td>NaN</td>\n",
       "    </tr>\n",
       "    <tr>\n",
       "      <th>1157005853</th>\n",
       "      <td>1157001834</td>\n",
       "      <td>1046469925</td>\n",
       "      <td>1046166369</td>\n",
       "      <td>0.323927</td>\n",
       "      <td>8453.0</td>\n",
       "      <td>3353.0</td>\n",
       "      <td>6719.0</td>\n",
       "      <td>239.76</td>\n",
       "      <td>4.635583</td>\n",
       "      <td>MB</td>\n",
       "      <td>313</td>\n",
       "      <td>8.171978</td>\n",
       "      <td>0.006368</td>\n",
       "      <td>60.769672</td>\n",
       "      <td>0.013232</td>\n",
       "      <td>102</td>\n",
       "      <td>14.64</td>\n",
       "      <td>0.682811</td>\n",
       "      <td>0.013611</td>\n",
       "      <td>0.99</td>\n",
       "      <td>59.0</td>\n",
       "      <td>760.0</td>\n",
       "      <td>0.010255</td>\n",
       "      <td>2.072626</td>\n",
       "      <td>good</td>\n",
       "      <td>True</td>\n",
       "      <td>90.709418</td>\n",
       "      <td>0.357119</td>\n",
       "      <td>0.192295</td>\n",
       "      <td>0.531490</td>\n",
       "      <td>-0.075261</td>\n",
       "      <td>0.366371</td>\n",
       "      <td>30.0</td>\n",
       "      <td>2.060302</td>\n",
       "      <td>-2.060302</td>\n",
       "    </tr>\n",
       "    <tr>\n",
       "      <th>1157005720</th>\n",
       "      <td>1157001786</td>\n",
       "      <td>1046469925</td>\n",
       "      <td>1046166369</td>\n",
       "      <td>0.044133</td>\n",
       "      <td>8575.0</td>\n",
       "      <td>3842.0</td>\n",
       "      <td>6590.0</td>\n",
       "      <td>263.32</td>\n",
       "      <td>5.691955</td>\n",
       "      <td>MRN</td>\n",
       "      <td>128</td>\n",
       "      <td>13.353274</td>\n",
       "      <td>0.066996</td>\n",
       "      <td>85.246390</td>\n",
       "      <td>0.000157</td>\n",
       "      <td>47</td>\n",
       "      <td>23.86</td>\n",
       "      <td>0.992248</td>\n",
       "      <td>0.000871</td>\n",
       "      <td>0.99</td>\n",
       "      <td>27.0</td>\n",
       "      <td>280.0</td>\n",
       "      <td>0.174623</td>\n",
       "      <td>1.373454</td>\n",
       "      <td>noise</td>\n",
       "      <td>True</td>\n",
       "      <td>90.433103</td>\n",
       "      <td>0.521943</td>\n",
       "      <td>0.178559</td>\n",
       "      <td>0.612217</td>\n",
       "      <td>-0.012119</td>\n",
       "      <td>0.269843</td>\n",
       "      <td>80.0</td>\n",
       "      <td>0.000000</td>\n",
       "      <td>0.863364</td>\n",
       "    </tr>\n",
       "    <tr>\n",
       "      <th>1157006074</th>\n",
       "      <td>1157001929</td>\n",
       "      <td>1046469925</td>\n",
       "      <td>1046166369</td>\n",
       "      <td>0.000583</td>\n",
       "      <td>8212.0</td>\n",
       "      <td>2477.0</td>\n",
       "      <td>6992.0</td>\n",
       "      <td>154.64</td>\n",
       "      <td>6.049284</td>\n",
       "      <td>NOT</td>\n",
       "      <td>628</td>\n",
       "      <td>12.006044</td>\n",
       "      <td>0.038353</td>\n",
       "      <td>78.647572</td>\n",
       "      <td>0.000202</td>\n",
       "      <td>214</td>\n",
       "      <td>44.82</td>\n",
       "      <td>0.970760</td>\n",
       "      <td>0.000580</td>\n",
       "      <td>0.99</td>\n",
       "      <td>59.0</td>\n",
       "      <td>1680.0</td>\n",
       "      <td>0.131043</td>\n",
       "      <td>3.763084</td>\n",
       "      <td>good</td>\n",
       "      <td>True</td>\n",
       "      <td>287.492107</td>\n",
       "      <td>0.343384</td>\n",
       "      <td>0.192295</td>\n",
       "      <td>0.470194</td>\n",
       "      <td>-0.178335</td>\n",
       "      <td>1.129324</td>\n",
       "      <td>40.0</td>\n",
       "      <td>1.373534</td>\n",
       "      <td>0.000000</td>\n",
       "    </tr>\n",
       "    <tr>\n",
       "      <th>1157006072</th>\n",
       "      <td>1157001929</td>\n",
       "      <td>1046469925</td>\n",
       "      <td>1046166369</td>\n",
       "      <td>0.500000</td>\n",
       "      <td>8212.0</td>\n",
       "      <td>2477.0</td>\n",
       "      <td>6992.0</td>\n",
       "      <td>242.58</td>\n",
       "      <td>4.745499</td>\n",
       "      <td>NOT</td>\n",
       "      <td>628</td>\n",
       "      <td>6.058306</td>\n",
       "      <td>0.073730</td>\n",
       "      <td>65.869326</td>\n",
       "      <td>0.000538</td>\n",
       "      <td>213</td>\n",
       "      <td>13.36</td>\n",
       "      <td>0.933333</td>\n",
       "      <td>0.000169</td>\n",
       "      <td>0.99</td>\n",
       "      <td>59.0</td>\n",
       "      <td>1680.0</td>\n",
       "      <td>0.065460</td>\n",
       "      <td>2.184721</td>\n",
       "      <td>good</td>\n",
       "      <td>True</td>\n",
       "      <td>157.897057</td>\n",
       "      <td>0.329648</td>\n",
       "      <td>0.164824</td>\n",
       "      <td>0.488276</td>\n",
       "      <td>-0.105005</td>\n",
       "      <td>0.660135</td>\n",
       "      <td>70.0</td>\n",
       "      <td>0.412060</td>\n",
       "      <td>0.343384</td>\n",
       "    </tr>\n",
       "  </tbody>\n",
       "</table>\n",
       "</div>"
      ],
      "text/plain": [
       "            ecephys_channel_id  ecephys_probe_id  ecephys_session_id  \\\n",
       "unit_id                                                                \n",
       "1157005856          1157001834        1046469925          1046166369   \n",
       "1157005853          1157001834        1046469925          1046166369   \n",
       "1157005720          1157001786        1046469925          1046166369   \n",
       "1157006074          1157001929        1046469925          1046166369   \n",
       "1157006072          1157001929        1046469925          1046166369   \n",
       "\n",
       "            amplitude_cutoff  anterior_posterior_ccf_coordinate  \\\n",
       "unit_id                                                           \n",
       "1157005856          0.500000                             8453.0   \n",
       "1157005853          0.323927                             8453.0   \n",
       "1157005720          0.044133                             8575.0   \n",
       "1157006074          0.000583                             8212.0   \n",
       "1157006072          0.500000                             8212.0   \n",
       "\n",
       "            dorsal_ventral_ccf_coordinate  left_right_ccf_coordinate  \\\n",
       "unit_id                                                                \n",
       "1157005856                         3353.0                     6719.0   \n",
       "1157005853                         3353.0                     6719.0   \n",
       "1157005720                         3842.0                     6590.0   \n",
       "1157006074                         2477.0                     6992.0   \n",
       "1157006072                         2477.0                     6992.0   \n",
       "\n",
       "            cumulative_drift   d_prime structure_acronym  structure_id  \\\n",
       "unit_id                                                                  \n",
       "1157005856            140.32  6.088133                MB           313   \n",
       "1157005853            239.76  4.635583                MB           313   \n",
       "1157005720            263.32  5.691955               MRN           128   \n",
       "1157006074            154.64  6.049284               NOT           628   \n",
       "1157006072            242.58  4.745499               NOT           628   \n",
       "\n",
       "            firing_rate  isi_violations  isolation_distance   l_ratio  \\\n",
       "unit_id                                                                 \n",
       "1157005856     0.931674        0.267220           57.655071  0.000560   \n",
       "1157005853     8.171978        0.006368           60.769672  0.013232   \n",
       "1157005720    13.353274        0.066996           85.246390  0.000157   \n",
       "1157006074    12.006044        0.038353           78.647572  0.000202   \n",
       "1157006072     6.058306        0.073730           65.869326  0.000538   \n",
       "\n",
       "            local_index  max_drift  nn_hit_rate  nn_miss_rate  presence_ratio  \\\n",
       "unit_id                                                                         \n",
       "1157005856          103      14.75     0.908333      0.000134            0.63   \n",
       "1157005853          102      14.64     0.682811      0.013611            0.99   \n",
       "1157005720           47      23.86     0.992248      0.000871            0.99   \n",
       "1157006074          214      44.82     0.970760      0.000580            0.99   \n",
       "1157006072          213      13.36     0.933333      0.000169            0.99   \n",
       "\n",
       "            probe_horizontal_position  probe_vertical_position  \\\n",
       "unit_id                                                          \n",
       "1157005856                       59.0                    760.0   \n",
       "1157005853                       59.0                    760.0   \n",
       "1157005720                       27.0                    280.0   \n",
       "1157006074                       59.0                   1680.0   \n",
       "1157006072                       59.0                   1680.0   \n",
       "\n",
       "            silhouette_score       snr quality  valid_data   amplitude  \\\n",
       "unit_id                                                                  \n",
       "1157005856          0.080785  3.002051   noise        True  143.066332   \n",
       "1157005853          0.010255  2.072626    good        True   90.709418   \n",
       "1157005720          0.174623  1.373454   noise        True   90.433103   \n",
       "1157006074          0.131043  3.763084    good        True  287.492107   \n",
       "1157006072          0.065460  2.184721    good        True  157.897057   \n",
       "\n",
       "            waveform_duration  waveform_halfwidth  PT_ratio  recovery_slope  \\\n",
       "unit_id                                                                       \n",
       "1157005856           0.151089            0.096147  0.310791       -0.113863   \n",
       "1157005853           0.357119            0.192295  0.531490       -0.075261   \n",
       "1157005720           0.521943            0.178559  0.612217       -0.012119   \n",
       "1157006074           0.343384            0.192295  0.470194       -0.178335   \n",
       "1157006072           0.329648            0.164824  0.488276       -0.105005   \n",
       "\n",
       "            repolarization_slope  spread  velocity_above  velocity_below  \n",
       "unit_id                                                                   \n",
       "1157005856              0.480656    20.0       -0.457845             NaN  \n",
       "1157005853              0.366371    30.0        2.060302       -2.060302  \n",
       "1157005720              0.269843    80.0        0.000000        0.863364  \n",
       "1157006074              1.129324    40.0        1.373534        0.000000  \n",
       "1157006072              0.660135    70.0        0.412060        0.343384  "
      ]
     },
     "execution_count": 11,
     "metadata": {},
     "output_type": "execute_result"
    }
   ],
   "source": [
    "units.head()"
   ]
  },
  {
   "cell_type": "markdown",
   "id": "3f291519-d5a3-4619-9aec-048f8af210fa",
   "metadata": {
    "tags": []
   },
   "source": [
    "## How many units are in dataset?"
   ]
  },
  {
   "cell_type": "code",
   "execution_count": 12,
   "id": "8cd28e29-b2f6-4e07-8c5a-79ac1b242415",
   "metadata": {
    "tags": []
   },
   "outputs": [
    {
     "data": {
      "text/plain": [
       "(319013, 35)"
      ]
     },
     "execution_count": 12,
     "metadata": {},
     "output_type": "execute_result"
    }
   ],
   "source": [
    "units.shape"
   ]
  },
  {
   "cell_type": "code",
   "execution_count": 13,
   "id": "61c5abfe-4b70-4d0a-b8a2-f97a4d39b2de",
   "metadata": {
    "tags": []
   },
   "outputs": [],
   "source": [
    "# Select 'good' quality units\n",
    "units = units[units.quality=='good']"
   ]
  },
  {
   "cell_type": "code",
   "execution_count": 14,
   "id": "9282c829-ca16-4f90-a7df-343c93619bc5",
   "metadata": {
    "tags": []
   },
   "outputs": [
    {
     "data": {
      "text/plain": [
       "(262177, 35)"
      ]
     },
     "execution_count": 14,
     "metadata": {},
     "output_type": "execute_result"
    }
   ],
   "source": [
    "units.shape"
   ]
  },
  {
   "cell_type": "markdown",
   "id": "09882c44-d499-4e90-906f-6c54ee9d388c",
   "metadata": {
    "tags": []
   },
   "source": [
    "## Which brain regions are recorded?"
   ]
  },
  {
   "cell_type": "code",
   "execution_count": 15,
   "id": "57a4e91c-7ee2-4aa4-9d74-465721b052fa",
   "metadata": {
    "tags": []
   },
   "outputs": [
    {
     "data": {
      "text/plain": [
       "CA1      32117\n",
       "APN      18834\n",
       "VISp     18637\n",
       "VISpm    17577\n",
       "VISl     17000\n",
       "         ...  \n",
       "ICe          7\n",
       "SCsg         6\n",
       "SCzo         4\n",
       "RSPd         3\n",
       "CA2          3\n",
       "Name: structure_acronym, Length: 63, dtype: int64"
      ]
     },
     "execution_count": 15,
     "metadata": {},
     "output_type": "execute_result"
    }
   ],
   "source": [
    "regions = units.structure_acronym.value_counts()\n",
    "regions"
   ]
  },
  {
   "cell_type": "code",
   "execution_count": 16,
   "id": "b96eb25d-0d86-4421-b0c2-3a7b5db430ab",
   "metadata": {
    "tags": []
   },
   "outputs": [
    {
     "data": {
      "text/plain": [
       "Text(0, 0.5, '# of units')"
      ]
     },
     "execution_count": 16,
     "metadata": {},
     "output_type": "execute_result"
    },
    {
     "data": {
      "image/png": "[encoded data removed]",
      "text/plain": [
       "<Figure size 640x480 with 1 Axes>"
      ]
     },
     "metadata": {},
     "output_type": "display_data"
    }
   ],
   "source": [
    "regions[:25].plot.bar()\n",
    "plt.xlabel('Brain regions')\n",
    "plt.ylabel('# of units')"
   ]
  },
  {
   "cell_type": "markdown",
   "id": "e4a94fa7-4ab4-4fb2-9b3c-0297771e4c90",
   "metadata": {},
   "source": [
    "## Select units in visual cortex"
   ]
  },
  {
   "cell_type": "code",
   "execution_count": 17,
   "id": "56ef4c59-e306-4a46-b290-4f636308b460",
   "metadata": {
    "tags": []
   },
   "outputs": [
    {
     "data": {
      "text/plain": [
       "(97309, 35)"
      ]
     },
     "execution_count": 17,
     "metadata": {},
     "output_type": "execute_result"
    }
   ],
   "source": [
    "v_units = units[units.structure_acronym.str.contains('VIS')]   \n",
    "v_units.shape"
   ]
  },
  {
   "cell_type": "markdown",
   "id": "ab299b88-9ea3-4977-a514-bb9953582c82",
   "metadata": {
    "tags": []
   },
   "source": [
    "## Select Broad and Narrow spiking units\n",
    "#### aka Regular and Fast spiking units"
   ]
  },
  {
   "cell_type": "code",
   "execution_count": 18,
   "id": "f6926729-8813-46f1-9dd4-97aff7e3e731",
   "metadata": {
    "tags": []
   },
   "outputs": [
    {
     "data": {
      "text/plain": [
       "Text(0, 0.5, '# of units in visual cortex')"
      ]
     },
     "execution_count": 18,
     "metadata": {},
     "output_type": "execute_result"
    },
    {
     "data": {
      "image/png": "[encoded data removed]",
      "text/plain": [
       "<Figure size 640x480 with 1 Axes>"
      ]
     },
     "metadata": {},
     "output_type": "display_data"
    }
   ],
   "source": [
    "plt.hist(v_units.waveform_duration,bins=25,range=(0,1));\n",
    "\n",
    "plt.xlabel(\"spike duration (ms)\")\n",
    "plt.ylabel(\"# of units in visual cortex\")"
   ]
  },
  {
   "cell_type": "code",
   "execution_count": 19,
   "id": "81102303-55ef-47e3-8017-c576da8247f3",
   "metadata": {
    "tags": []
   },
   "outputs": [],
   "source": [
    "fast_spiking_units = v_units[v_units.waveform_duration < 0.4]"
   ]
  },
  {
   "cell_type": "code",
   "execution_count": 20,
   "id": "d4280cce-af61-4e7d-b06a-e5a1e5d2a8d0",
   "metadata": {
    "tags": []
   },
   "outputs": [
    {
     "data": {
      "text/plain": [
       "Text(0, 0.5, '# of units in visual cortex')"
      ]
     },
     "execution_count": 20,
     "metadata": {},
     "output_type": "execute_result"
    },
    {
     "data": {
      "image/png": "[encoded data removed]",
      "text/plain": [
       "<Figure size 640x480 with 1 Axes>"
      ]
     },
     "metadata": {},
     "output_type": "display_data"
    }
   ],
   "source": [
    "plt.hist(fast_spiking_units.waveform_duration,bins=25,range=(0,1));\n",
    "\n",
    "plt.xlabel(\"spike duration (ms)\")\n",
    "plt.ylabel(\"# of units in visual cortex\")"
   ]
  },
  {
   "cell_type": "markdown",
   "id": "0cf4d97f-0d8e-419f-a0c2-bfe9f9ecd7a3",
   "metadata": {
    "tags": []
   },
   "source": [
    "# . . . "
   ]
  },
  {
   "cell_type": "markdown",
   "id": "f9bddfb3-1e8c-4c9b-9efe-0b563f244d5a",
   "metadata": {},
   "source": [
    "# 4. \"Session\" object: data from single experiment"
   ]
  },
  {
   "cell_type": "code",
   "execution_count": 21,
   "id": "a7e5494e-9c9b-46d1-b575-f574c4e8ae47",
   "metadata": {
    "tags": []
   },
   "outputs": [],
   "source": [
    "session_id = 1053941483"
   ]
  },
  {
   "cell_type": "code",
   "execution_count": 22,
   "id": "ce51a9d4-db23-42e0-af8a-79271be8cc35",
   "metadata": {
    "tags": []
   },
   "outputs": [],
   "source": [
    "session = cache.get_ecephys_session(session_id)"
   ]
  },
  {
   "cell_type": "markdown",
   "id": "7bb2c023-7bd2-483d-bea8-7d510f14fbe9",
   "metadata": {
    "tags": []
   },
   "source": [
    "## Get units table for this one session"
   ]
  },
  {
   "cell_type": "code",
   "execution_count": 23,
   "id": "197506e1-f533-4b54-9903-46b5f40cc9d3",
   "metadata": {
    "tags": []
   },
   "outputs": [
    {
     "data": {
      "text/html": [
       "<div>\n",
       "<style scoped>\n",
       "    .dataframe tbody tr th:only-of-type {\n",
       "        vertical-align: middle;\n",
       "    }\n",
       "\n",
       "    .dataframe tbody tr th {\n",
       "        vertical-align: top;\n",
       "    }\n",
       "\n",
       "    .dataframe thead th {\n",
       "        text-align: right;\n",
       "    }\n",
       "</style>\n",
       "<table border=\"1\" class=\"dataframe\">\n",
       "  <thead>\n",
       "    <tr style=\"text-align: right;\">\n",
       "      <th></th>\n",
       "      <th>PT_ratio</th>\n",
       "      <th>amplitude</th>\n",
       "      <th>amplitude_cutoff</th>\n",
       "      <th>cluster_id</th>\n",
       "      <th>cumulative_drift</th>\n",
       "      <th>d_prime</th>\n",
       "      <th>firing_rate</th>\n",
       "      <th>isi_violations</th>\n",
       "      <th>isolation_distance</th>\n",
       "      <th>l_ratio</th>\n",
       "      <th>local_index</th>\n",
       "      <th>max_drift</th>\n",
       "      <th>nn_hit_rate</th>\n",
       "      <th>nn_miss_rate</th>\n",
       "      <th>peak_channel_id</th>\n",
       "      <th>presence_ratio</th>\n",
       "      <th>quality</th>\n",
       "      <th>recovery_slope</th>\n",
       "      <th>repolarization_slope</th>\n",
       "      <th>silhouette_score</th>\n",
       "      <th>snr</th>\n",
       "      <th>spread</th>\n",
       "      <th>velocity_above</th>\n",
       "      <th>velocity_below</th>\n",
       "      <th>waveform_duration</th>\n",
       "    </tr>\n",
       "    <tr>\n",
       "      <th>id</th>\n",
       "      <th></th>\n",
       "      <th></th>\n",
       "      <th></th>\n",
       "      <th></th>\n",
       "      <th></th>\n",
       "      <th></th>\n",
       "      <th></th>\n",
       "      <th></th>\n",
       "      <th></th>\n",
       "      <th></th>\n",
       "      <th></th>\n",
       "      <th></th>\n",
       "      <th></th>\n",
       "      <th></th>\n",
       "      <th></th>\n",
       "      <th></th>\n",
       "      <th></th>\n",
       "      <th></th>\n",
       "      <th></th>\n",
       "      <th></th>\n",
       "      <th></th>\n",
       "      <th></th>\n",
       "      <th></th>\n",
       "      <th></th>\n",
       "      <th></th>\n",
       "    </tr>\n",
       "  </thead>\n",
       "  <tbody>\n",
       "    <tr>\n",
       "      <th>1061853767</th>\n",
       "      <td>0.738222</td>\n",
       "      <td>316.197083</td>\n",
       "      <td>0.000008</td>\n",
       "      <td>23</td>\n",
       "      <td>79.63</td>\n",
       "      <td>10.843623</td>\n",
       "      <td>68.687706</td>\n",
       "      <td>0.000167</td>\n",
       "      <td>246.203332</td>\n",
       "      <td>3.104812e-08</td>\n",
       "      <td>23</td>\n",
       "      <td>37.32</td>\n",
       "      <td>1.000000</td>\n",
       "      <td>0.000000</td>\n",
       "      <td>1061851399</td>\n",
       "      <td>0.99</td>\n",
       "      <td>good</td>\n",
       "      <td>-0.404348</td>\n",
       "      <td>1.397716</td>\n",
       "      <td>0.113092</td>\n",
       "      <td>4.519657</td>\n",
       "      <td>60.0</td>\n",
       "      <td>0.686767</td>\n",
       "      <td>0.137353</td>\n",
       "      <td>0.20603</td>\n",
       "    </tr>\n",
       "    <tr>\n",
       "      <th>1061853941</th>\n",
       "      <td>0.490965</td>\n",
       "      <td>103.995255</td>\n",
       "      <td>0.273518</td>\n",
       "      <td>196</td>\n",
       "      <td>347.89</td>\n",
       "      <td>3.966892</td>\n",
       "      <td>1.747814</td>\n",
       "      <td>0.374140</td>\n",
       "      <td>60.672055</td>\n",
       "      <td>3.726235e-03</td>\n",
       "      <td>190</td>\n",
       "      <td>20.28</td>\n",
       "      <td>0.894994</td>\n",
       "      <td>0.001816</td>\n",
       "      <td>1061851668</td>\n",
       "      <td>0.99</td>\n",
       "      <td>good</td>\n",
       "      <td>-0.056305</td>\n",
       "      <td>0.309332</td>\n",
       "      <td>0.099188</td>\n",
       "      <td>2.541619</td>\n",
       "      <td>70.0</td>\n",
       "      <td>0.480737</td>\n",
       "      <td>0.206030</td>\n",
       "      <td>0.61809</td>\n",
       "    </tr>\n",
       "  </tbody>\n",
       "</table>\n",
       "</div>"
      ],
      "text/plain": [
       "            PT_ratio   amplitude  amplitude_cutoff  cluster_id  \\\n",
       "id                                                               \n",
       "1061853767  0.738222  316.197083          0.000008          23   \n",
       "1061853941  0.490965  103.995255          0.273518         196   \n",
       "\n",
       "            cumulative_drift    d_prime  firing_rate  isi_violations  \\\n",
       "id                                                                     \n",
       "1061853767             79.63  10.843623    68.687706        0.000167   \n",
       "1061853941            347.89   3.966892     1.747814        0.374140   \n",
       "\n",
       "            isolation_distance       l_ratio  local_index  max_drift  \\\n",
       "id                                                                     \n",
       "1061853767          246.203332  3.104812e-08           23      37.32   \n",
       "1061853941           60.672055  3.726235e-03          190      20.28   \n",
       "\n",
       "            nn_hit_rate  nn_miss_rate  peak_channel_id  presence_ratio  \\\n",
       "id                                                                       \n",
       "1061853767     1.000000      0.000000       1061851399            0.99   \n",
       "1061853941     0.894994      0.001816       1061851668            0.99   \n",
       "\n",
       "           quality  recovery_slope  repolarization_slope  silhouette_score  \\\n",
       "id                                                                           \n",
       "1061853767    good       -0.404348              1.397716          0.113092   \n",
       "1061853941    good       -0.056305              0.309332          0.099188   \n",
       "\n",
       "                 snr  spread  velocity_above  velocity_below  \\\n",
       "id                                                             \n",
       "1061853767  4.519657    60.0        0.686767        0.137353   \n",
       "1061853941  2.541619    70.0        0.480737        0.206030   \n",
       "\n",
       "            waveform_duration  \n",
       "id                             \n",
       "1061853767            0.20603  \n",
       "1061853941            0.61809  "
      ]
     },
     "execution_count": 23,
     "metadata": {},
     "output_type": "execute_result"
    }
   ],
   "source": [
    "units = session.get_units()\n",
    "units.head(2)"
   ]
  },
  {
   "cell_type": "code",
   "execution_count": 24,
   "id": "a76c2605-96dd-4ab5-b01c-5cdc874a98f5",
   "metadata": {
    "tags": []
   },
   "outputs": [
    {
     "data": {
      "text/html": [
       "<div>\n",
       "<style scoped>\n",
       "    .dataframe tbody tr th:only-of-type {\n",
       "        vertical-align: middle;\n",
       "    }\n",
       "\n",
       "    .dataframe tbody tr th {\n",
       "        vertical-align: top;\n",
       "    }\n",
       "\n",
       "    .dataframe thead th {\n",
       "        text-align: right;\n",
       "    }\n",
       "</style>\n",
       "<table border=\"1\" class=\"dataframe\">\n",
       "  <thead>\n",
       "    <tr style=\"text-align: right;\">\n",
       "      <th></th>\n",
       "      <th>anterior_posterior_ccf_coordinate</th>\n",
       "      <th>dorsal_ventral_ccf_coordinate</th>\n",
       "      <th>filtering</th>\n",
       "      <th>left_right_ccf_coordinate</th>\n",
       "      <th>probe_channel_number</th>\n",
       "      <th>probe_horizontal_position</th>\n",
       "      <th>probe_id</th>\n",
       "      <th>probe_vertical_position</th>\n",
       "      <th>structure_acronym</th>\n",
       "    </tr>\n",
       "    <tr>\n",
       "      <th>id</th>\n",
       "      <th></th>\n",
       "      <th></th>\n",
       "      <th></th>\n",
       "      <th></th>\n",
       "      <th></th>\n",
       "      <th></th>\n",
       "      <th></th>\n",
       "      <th></th>\n",
       "      <th></th>\n",
       "    </tr>\n",
       "  </thead>\n",
       "  <tbody>\n",
       "    <tr>\n",
       "      <th>1061851368</th>\n",
       "      <td>8315.0</td>\n",
       "      <td>4024.0</td>\n",
       "      <td>AP band: 500 Hz high-pass; LFP band: 1000 Hz l...</td>\n",
       "      <td>6882.0</td>\n",
       "      <td>0</td>\n",
       "      <td>43</td>\n",
       "      <td>1054059289</td>\n",
       "      <td>20</td>\n",
       "      <td>APN</td>\n",
       "    </tr>\n",
       "    <tr>\n",
       "      <th>1061851369</th>\n",
       "      <td>8313.0</td>\n",
       "      <td>4014.0</td>\n",
       "      <td>AP band: 500 Hz high-pass; LFP band: 1000 Hz l...</td>\n",
       "      <td>6886.0</td>\n",
       "      <td>1</td>\n",
       "      <td>11</td>\n",
       "      <td>1054059289</td>\n",
       "      <td>20</td>\n",
       "      <td>APN</td>\n",
       "    </tr>\n",
       "  </tbody>\n",
       "</table>\n",
       "</div>"
      ],
      "text/plain": [
       "            anterior_posterior_ccf_coordinate  dorsal_ventral_ccf_coordinate  \\\n",
       "id                                                                             \n",
       "1061851368                             8315.0                         4024.0   \n",
       "1061851369                             8313.0                         4014.0   \n",
       "\n",
       "                                                    filtering  \\\n",
       "id                                                              \n",
       "1061851368  AP band: 500 Hz high-pass; LFP band: 1000 Hz l...   \n",
       "1061851369  AP band: 500 Hz high-pass; LFP band: 1000 Hz l...   \n",
       "\n",
       "            left_right_ccf_coordinate  probe_channel_number  \\\n",
       "id                                                            \n",
       "1061851368                     6882.0                     0   \n",
       "1061851369                     6886.0                     1   \n",
       "\n",
       "            probe_horizontal_position    probe_id  probe_vertical_position  \\\n",
       "id                                                                           \n",
       "1061851368                         43  1054059289                       20   \n",
       "1061851369                         11  1054059289                       20   \n",
       "\n",
       "           structure_acronym  \n",
       "id                            \n",
       "1061851368               APN  \n",
       "1061851369               APN  "
      ]
     },
     "execution_count": 24,
     "metadata": {},
     "output_type": "execute_result"
    }
   ],
   "source": [
    "# Get channels table -- this tells us the location of every electrode channel\n",
    "channels = session.get_channels()\n",
    "channels.head(2)"
   ]
  },
  {
   "cell_type": "code",
   "execution_count": 25,
   "id": "5ddc8783-efba-4258-89e4-e73ca7da3b7d",
   "metadata": {
    "tags": []
   },
   "outputs": [
    {
     "data": {
      "text/html": [
       "<div>\n",
       "<style scoped>\n",
       "    .dataframe tbody tr th:only-of-type {\n",
       "        vertical-align: middle;\n",
       "    }\n",
       "\n",
       "    .dataframe tbody tr th {\n",
       "        vertical-align: top;\n",
       "    }\n",
       "\n",
       "    .dataframe thead th {\n",
       "        text-align: right;\n",
       "    }\n",
       "</style>\n",
       "<table border=\"1\" class=\"dataframe\">\n",
       "  <thead>\n",
       "    <tr style=\"text-align: right;\">\n",
       "      <th></th>\n",
       "      <th>PT_ratio</th>\n",
       "      <th>amplitude</th>\n",
       "      <th>amplitude_cutoff</th>\n",
       "      <th>cluster_id</th>\n",
       "      <th>cumulative_drift</th>\n",
       "      <th>d_prime</th>\n",
       "      <th>firing_rate</th>\n",
       "      <th>isi_violations</th>\n",
       "      <th>isolation_distance</th>\n",
       "      <th>l_ratio</th>\n",
       "      <th>local_index</th>\n",
       "      <th>max_drift</th>\n",
       "      <th>nn_hit_rate</th>\n",
       "      <th>nn_miss_rate</th>\n",
       "      <th>peak_channel_id</th>\n",
       "      <th>presence_ratio</th>\n",
       "      <th>quality</th>\n",
       "      <th>recovery_slope</th>\n",
       "      <th>repolarization_slope</th>\n",
       "      <th>silhouette_score</th>\n",
       "      <th>snr</th>\n",
       "      <th>spread</th>\n",
       "      <th>velocity_above</th>\n",
       "      <th>velocity_below</th>\n",
       "      <th>waveform_duration</th>\n",
       "      <th>anterior_posterior_ccf_coordinate</th>\n",
       "      <th>dorsal_ventral_ccf_coordinate</th>\n",
       "      <th>filtering</th>\n",
       "      <th>left_right_ccf_coordinate</th>\n",
       "      <th>probe_channel_number</th>\n",
       "      <th>probe_horizontal_position</th>\n",
       "      <th>probe_id</th>\n",
       "      <th>probe_vertical_position</th>\n",
       "      <th>structure_acronym</th>\n",
       "    </tr>\n",
       "    <tr>\n",
       "      <th>id</th>\n",
       "      <th></th>\n",
       "      <th></th>\n",
       "      <th></th>\n",
       "      <th></th>\n",
       "      <th></th>\n",
       "      <th></th>\n",
       "      <th></th>\n",
       "      <th></th>\n",
       "      <th></th>\n",
       "      <th></th>\n",
       "      <th></th>\n",
       "      <th></th>\n",
       "      <th></th>\n",
       "      <th></th>\n",
       "      <th></th>\n",
       "      <th></th>\n",
       "      <th></th>\n",
       "      <th></th>\n",
       "      <th></th>\n",
       "      <th></th>\n",
       "      <th></th>\n",
       "      <th></th>\n",
       "      <th></th>\n",
       "      <th></th>\n",
       "      <th></th>\n",
       "      <th></th>\n",
       "      <th></th>\n",
       "      <th></th>\n",
       "      <th></th>\n",
       "      <th></th>\n",
       "      <th></th>\n",
       "      <th></th>\n",
       "      <th></th>\n",
       "      <th></th>\n",
       "    </tr>\n",
       "  </thead>\n",
       "  <tbody>\n",
       "    <tr>\n",
       "      <th>1061853767</th>\n",
       "      <td>0.738222</td>\n",
       "      <td>316.197083</td>\n",
       "      <td>0.000008</td>\n",
       "      <td>23</td>\n",
       "      <td>79.63</td>\n",
       "      <td>10.843623</td>\n",
       "      <td>68.687706</td>\n",
       "      <td>0.000167</td>\n",
       "      <td>246.203332</td>\n",
       "      <td>3.104812e-08</td>\n",
       "      <td>23</td>\n",
       "      <td>37.32</td>\n",
       "      <td>1.000000</td>\n",
       "      <td>0.000000</td>\n",
       "      <td>1061851399</td>\n",
       "      <td>0.99</td>\n",
       "      <td>good</td>\n",
       "      <td>-0.404348</td>\n",
       "      <td>1.397716</td>\n",
       "      <td>0.113092</td>\n",
       "      <td>4.519657</td>\n",
       "      <td>60.0</td>\n",
       "      <td>0.686767</td>\n",
       "      <td>0.137353</td>\n",
       "      <td>0.20603</td>\n",
       "      <td>8254.0</td>\n",
       "      <td>3707.0</td>\n",
       "      <td>AP band: 500 Hz high-pass; LFP band: 1000 Hz l...</td>\n",
       "      <td>6982.0</td>\n",
       "      <td>30</td>\n",
       "      <td>59</td>\n",
       "      <td>1054059289</td>\n",
       "      <td>320</td>\n",
       "      <td>APN</td>\n",
       "    </tr>\n",
       "    <tr>\n",
       "      <th>1061853941</th>\n",
       "      <td>0.490965</td>\n",
       "      <td>103.995255</td>\n",
       "      <td>0.273518</td>\n",
       "      <td>196</td>\n",
       "      <td>347.89</td>\n",
       "      <td>3.966892</td>\n",
       "      <td>1.747814</td>\n",
       "      <td>0.374140</td>\n",
       "      <td>60.672055</td>\n",
       "      <td>3.726235e-03</td>\n",
       "      <td>190</td>\n",
       "      <td>20.28</td>\n",
       "      <td>0.894994</td>\n",
       "      <td>0.001816</td>\n",
       "      <td>1061851668</td>\n",
       "      <td>0.99</td>\n",
       "      <td>good</td>\n",
       "      <td>-0.056305</td>\n",
       "      <td>0.309332</td>\n",
       "      <td>0.099188</td>\n",
       "      <td>2.541619</td>\n",
       "      <td>70.0</td>\n",
       "      <td>0.480737</td>\n",
       "      <td>0.206030</td>\n",
       "      <td>0.61809</td>\n",
       "      <td>7607.0</td>\n",
       "      <td>615.0</td>\n",
       "      <td>AP band: 500 Hz high-pass; LFP band: 1000 Hz l...</td>\n",
       "      <td>7642.0</td>\n",
       "      <td>294</td>\n",
       "      <td>59</td>\n",
       "      <td>1054059289</td>\n",
       "      <td>2960</td>\n",
       "      <td>VISam</td>\n",
       "    </tr>\n",
       "  </tbody>\n",
       "</table>\n",
       "</div>"
      ],
      "text/plain": [
       "            PT_ratio   amplitude  amplitude_cutoff  cluster_id  \\\n",
       "id                                                               \n",
       "1061853767  0.738222  316.197083          0.000008          23   \n",
       "1061853941  0.490965  103.995255          0.273518         196   \n",
       "\n",
       "            cumulative_drift    d_prime  firing_rate  isi_violations  \\\n",
       "id                                                                     \n",
       "1061853767             79.63  10.843623    68.687706        0.000167   \n",
       "1061853941            347.89   3.966892     1.747814        0.374140   \n",
       "\n",
       "            isolation_distance       l_ratio  local_index  max_drift  \\\n",
       "id                                                                     \n",
       "1061853767          246.203332  3.104812e-08           23      37.32   \n",
       "1061853941           60.672055  3.726235e-03          190      20.28   \n",
       "\n",
       "            nn_hit_rate  nn_miss_rate  peak_channel_id  presence_ratio  \\\n",
       "id                                                                       \n",
       "1061853767     1.000000      0.000000       1061851399            0.99   \n",
       "1061853941     0.894994      0.001816       1061851668            0.99   \n",
       "\n",
       "           quality  recovery_slope  repolarization_slope  silhouette_score  \\\n",
       "id                                                                           \n",
       "1061853767    good       -0.404348              1.397716          0.113092   \n",
       "1061853941    good       -0.056305              0.309332          0.099188   \n",
       "\n",
       "                 snr  spread  velocity_above  velocity_below  \\\n",
       "id                                                             \n",
       "1061853767  4.519657    60.0        0.686767        0.137353   \n",
       "1061853941  2.541619    70.0        0.480737        0.206030   \n",
       "\n",
       "            waveform_duration  anterior_posterior_ccf_coordinate  \\\n",
       "id                                                                 \n",
       "1061853767            0.20603                             8254.0   \n",
       "1061853941            0.61809                             7607.0   \n",
       "\n",
       "            dorsal_ventral_ccf_coordinate  \\\n",
       "id                                          \n",
       "1061853767                         3707.0   \n",
       "1061853941                          615.0   \n",
       "\n",
       "                                                    filtering  \\\n",
       "id                                                              \n",
       "1061853767  AP band: 500 Hz high-pass; LFP band: 1000 Hz l...   \n",
       "1061853941  AP band: 500 Hz high-pass; LFP band: 1000 Hz l...   \n",
       "\n",
       "            left_right_ccf_coordinate  probe_channel_number  \\\n",
       "id                                                            \n",
       "1061853767                     6982.0                    30   \n",
       "1061853941                     7642.0                   294   \n",
       "\n",
       "            probe_horizontal_position    probe_id  probe_vertical_position  \\\n",
       "id                                                                           \n",
       "1061853767                         59  1054059289                      320   \n",
       "1061853941                         59  1054059289                     2960   \n",
       "\n",
       "           structure_acronym  \n",
       "id                            \n",
       "1061853767               APN  \n",
       "1061853941             VISam  "
      ]
     },
     "execution_count": 25,
     "metadata": {},
     "output_type": "execute_result"
    }
   ],
   "source": [
    "# Merge channels table into units table using \n",
    "units = units.merge(channels, left_on='peak_channel_id', right_index=True)\n",
    "units.head(2)"
   ]
  },
  {
   "cell_type": "code",
   "execution_count": 26,
   "id": "087bdd9a-5fb6-48eb-a0bd-fac02ff1ac71",
   "metadata": {
    "tags": []
   },
   "outputs": [],
   "source": [
    "# Select units that are in visual cortex\n",
    "v_units = units[units.structure_acronym.str.contains('VIS')]"
   ]
  },
  {
   "cell_type": "code",
   "execution_count": 27,
   "id": "9af5f10f-883e-4a82-b875-2287705b7943",
   "metadata": {
    "tags": []
   },
   "outputs": [
    {
     "data": {
      "image/png": "[encoded data removed]",
      "text/plain": [
       "<Figure size 640x480 with 1 Axes>"
      ]
     },
     "metadata": {},
     "output_type": "display_data"
    }
   ],
   "source": [
    "v_units.structure_acronym.value_counts().plot.bar();"
   ]
  },
  {
   "cell_type": "markdown",
   "id": "92f68889-df04-4b98-93c2-2f9c3f418da9",
   "metadata": {},
   "source": [
    "## Make raster plot of one unit's spike train"
   ]
  },
  {
   "cell_type": "code",
   "execution_count": 28,
   "id": "b2530043-3473-4fa3-9b52-3dbc986cef60",
   "metadata": {
    "tags": []
   },
   "outputs": [
    {
     "data": {
      "text/plain": [
       "1061853935"
      ]
     },
     "execution_count": 28,
     "metadata": {},
     "output_type": "execute_result"
    }
   ],
   "source": [
    "# Example unit\n",
    "example_unit_id = v_units.index[27]\n",
    "example_unit_id"
   ]
  },
  {
   "cell_type": "code",
   "execution_count": 29,
   "id": "d2a3feea-05cb-4202-b9d2-e2e21b9f756f",
   "metadata": {
    "tags": []
   },
   "outputs": [
    {
     "data": {
      "text/plain": [
       "(96387,)"
      ]
     },
     "execution_count": 29,
     "metadata": {},
     "output_type": "execute_result"
    }
   ],
   "source": [
    "# Get spike times for example unit\n",
    "example_unit_spike_times = session.spike_times[example_unit_id]\n",
    "example_unit_spike_times.shape"
   ]
  },
  {
   "cell_type": "code",
   "execution_count": 30,
   "id": "b97b2b89-9c86-4c22-b023-672c6c932817",
   "metadata": {
    "tags": []
   },
   "outputs": [
    {
     "data": {
      "image/png": "[encoded data removed]",
      "text/plain": [
       "<Figure size 640x480 with 1 Axes>"
      ]
     },
     "metadata": {},
     "output_type": "display_data"
    }
   ],
   "source": [
    "# Plot raster\n",
    "plt.eventplot(example_unit_spike_times)\n",
    "plt.xlabel('Seconds');"
   ]
  },
  {
   "cell_type": "code",
   "execution_count": 31,
   "id": "202e91d4-b081-4dce-af4e-75b9928ab4a0",
   "metadata": {
    "tags": []
   },
   "outputs": [
    {
     "data": {
      "image/png": "[encoded data removed]",
      "text/plain": [
       "<Figure size 1100x100 with 1 Axes>"
      ]
     },
     "metadata": {},
     "output_type": "display_data"
    }
   ],
   "source": [
    "# Make raster for shorter segment of time\n",
    "raster_start_time = 407\n",
    "raster_end_time = 427\n",
    "\n",
    "plt.figure(figsize=(11,1))\n",
    "plt.eventplot(example_unit_spike_times,linewidth=0.75)\n",
    "plt.xlim(raster_start_time,raster_end_time)\n",
    "plt.xlabel('Seconds');"
   ]
  },
  {
   "cell_type": "markdown",
   "id": "eee12cdd-b472-4fcb-a8b5-0be6c8a10553",
   "metadata": {},
   "source": [
    "## 5. \"Stimulus\" table"
   ]
  },
  {
   "cell_type": "code",
   "execution_count": 32,
   "id": "69eb3a76-2f2e-43bf-9a9b-0b4418157a3f",
   "metadata": {
    "tags": []
   },
   "outputs": [],
   "source": [
    "stim_table = session.stimulus_presentations"
   ]
  },
  {
   "cell_type": "code",
   "execution_count": 33,
   "id": "3e18a2e8-6c8b-42e2-9fc3-973f83b9e153",
   "metadata": {
    "tags": []
   },
   "outputs": [
    {
     "data": {
      "text/html": [
       "<div>\n",
       "<style scoped>\n",
       "    .dataframe tbody tr th:only-of-type {\n",
       "        vertical-align: middle;\n",
       "    }\n",
       "\n",
       "    .dataframe tbody tr th {\n",
       "        vertical-align: top;\n",
       "    }\n",
       "\n",
       "    .dataframe thead th {\n",
       "        text-align: right;\n",
       "    }\n",
       "</style>\n",
       "<table border=\"1\" class=\"dataframe\">\n",
       "  <thead>\n",
       "    <tr style=\"text-align: right;\">\n",
       "      <th></th>\n",
       "      <th>stimulus_block</th>\n",
       "      <th>image_name</th>\n",
       "      <th>duration</th>\n",
       "      <th>start_time</th>\n",
       "      <th>end_time</th>\n",
       "      <th>start_frame</th>\n",
       "      <th>end_frame</th>\n",
       "      <th>is_change</th>\n",
       "      <th>is_image_novel</th>\n",
       "      <th>omitted</th>\n",
       "      <th>flashes_since_change</th>\n",
       "      <th>trials_id</th>\n",
       "      <th>rewarded</th>\n",
       "      <th>stimulus_name</th>\n",
       "      <th>position_y</th>\n",
       "      <th>temporal_frequency</th>\n",
       "      <th>is_sham_change</th>\n",
       "      <th>stimulus_index</th>\n",
       "      <th>active</th>\n",
       "      <th>spatial_frequency</th>\n",
       "      <th>orientation</th>\n",
       "      <th>color</th>\n",
       "      <th>position_x</th>\n",
       "      <th>contrast</th>\n",
       "    </tr>\n",
       "    <tr>\n",
       "      <th>stimulus_presentations_id</th>\n",
       "      <th></th>\n",
       "      <th></th>\n",
       "      <th></th>\n",
       "      <th></th>\n",
       "      <th></th>\n",
       "      <th></th>\n",
       "      <th></th>\n",
       "      <th></th>\n",
       "      <th></th>\n",
       "      <th></th>\n",
       "      <th></th>\n",
       "      <th></th>\n",
       "      <th></th>\n",
       "      <th></th>\n",
       "      <th></th>\n",
       "      <th></th>\n",
       "      <th></th>\n",
       "      <th></th>\n",
       "      <th></th>\n",
       "      <th></th>\n",
       "      <th></th>\n",
       "      <th></th>\n",
       "      <th></th>\n",
       "      <th></th>\n",
       "    </tr>\n",
       "  </thead>\n",
       "  <tbody>\n",
       "    <tr>\n",
       "      <th>0</th>\n",
       "      <td>0</td>\n",
       "      <td>im104_r</td>\n",
       "      <td>0.250212</td>\n",
       "      <td>25.254420</td>\n",
       "      <td>25.504632</td>\n",
       "      <td>60</td>\n",
       "      <td>75</td>\n",
       "      <td>False</td>\n",
       "      <td>True</td>\n",
       "      <td>False</td>\n",
       "      <td>0</td>\n",
       "      <td>0</td>\n",
       "      <td>False</td>\n",
       "      <td>Natural_Images_Lum_Matched_set_ophys_H_2019</td>\n",
       "      <td>NaN</td>\n",
       "      <td>NaN</td>\n",
       "      <td>False</td>\n",
       "      <td>-99</td>\n",
       "      <td>True</td>\n",
       "      <td>NaN</td>\n",
       "      <td>NaN</td>\n",
       "      <td>NaN</td>\n",
       "      <td>NaN</td>\n",
       "      <td>NaN</td>\n",
       "    </tr>\n",
       "    <tr>\n",
       "      <th>1</th>\n",
       "      <td>0</td>\n",
       "      <td>im104_r</td>\n",
       "      <td>0.250212</td>\n",
       "      <td>26.005057</td>\n",
       "      <td>26.255269</td>\n",
       "      <td>105</td>\n",
       "      <td>120</td>\n",
       "      <td>False</td>\n",
       "      <td>True</td>\n",
       "      <td>False</td>\n",
       "      <td>1</td>\n",
       "      <td>0</td>\n",
       "      <td>False</td>\n",
       "      <td>Natural_Images_Lum_Matched_set_ophys_H_2019</td>\n",
       "      <td>NaN</td>\n",
       "      <td>NaN</td>\n",
       "      <td>False</td>\n",
       "      <td>-99</td>\n",
       "      <td>True</td>\n",
       "      <td>NaN</td>\n",
       "      <td>NaN</td>\n",
       "      <td>NaN</td>\n",
       "      <td>NaN</td>\n",
       "      <td>NaN</td>\n",
       "    </tr>\n",
       "    <tr>\n",
       "      <th>2</th>\n",
       "      <td>0</td>\n",
       "      <td>im104_r</td>\n",
       "      <td>0.250208</td>\n",
       "      <td>26.755685</td>\n",
       "      <td>27.005892</td>\n",
       "      <td>150</td>\n",
       "      <td>165</td>\n",
       "      <td>False</td>\n",
       "      <td>True</td>\n",
       "      <td>False</td>\n",
       "      <td>2</td>\n",
       "      <td>1</td>\n",
       "      <td>False</td>\n",
       "      <td>Natural_Images_Lum_Matched_set_ophys_H_2019</td>\n",
       "      <td>NaN</td>\n",
       "      <td>NaN</td>\n",
       "      <td>False</td>\n",
       "      <td>-99</td>\n",
       "      <td>True</td>\n",
       "      <td>NaN</td>\n",
       "      <td>NaN</td>\n",
       "      <td>NaN</td>\n",
       "      <td>NaN</td>\n",
       "      <td>NaN</td>\n",
       "    </tr>\n",
       "    <tr>\n",
       "      <th>3</th>\n",
       "      <td>0</td>\n",
       "      <td>im104_r</td>\n",
       "      <td>0.250207</td>\n",
       "      <td>27.506307</td>\n",
       "      <td>27.756515</td>\n",
       "      <td>195</td>\n",
       "      <td>210</td>\n",
       "      <td>False</td>\n",
       "      <td>True</td>\n",
       "      <td>False</td>\n",
       "      <td>3</td>\n",
       "      <td>1</td>\n",
       "      <td>False</td>\n",
       "      <td>Natural_Images_Lum_Matched_set_ophys_H_2019</td>\n",
       "      <td>NaN</td>\n",
       "      <td>NaN</td>\n",
       "      <td>False</td>\n",
       "      <td>-99</td>\n",
       "      <td>True</td>\n",
       "      <td>NaN</td>\n",
       "      <td>NaN</td>\n",
       "      <td>NaN</td>\n",
       "      <td>NaN</td>\n",
       "      <td>NaN</td>\n",
       "    </tr>\n",
       "    <tr>\n",
       "      <th>4</th>\n",
       "      <td>0</td>\n",
       "      <td>im104_r</td>\n",
       "      <td>0.250213</td>\n",
       "      <td>28.256929</td>\n",
       "      <td>28.507142</td>\n",
       "      <td>240</td>\n",
       "      <td>255</td>\n",
       "      <td>False</td>\n",
       "      <td>True</td>\n",
       "      <td>False</td>\n",
       "      <td>4</td>\n",
       "      <td>1</td>\n",
       "      <td>False</td>\n",
       "      <td>Natural_Images_Lum_Matched_set_ophys_H_2019</td>\n",
       "      <td>NaN</td>\n",
       "      <td>NaN</td>\n",
       "      <td>False</td>\n",
       "      <td>-99</td>\n",
       "      <td>True</td>\n",
       "      <td>NaN</td>\n",
       "      <td>NaN</td>\n",
       "      <td>NaN</td>\n",
       "      <td>NaN</td>\n",
       "      <td>NaN</td>\n",
       "    </tr>\n",
       "  </tbody>\n",
       "</table>\n",
       "</div>"
      ],
      "text/plain": [
       "                           stimulus_block image_name  duration  start_time  \\\n",
       "stimulus_presentations_id                                                    \n",
       "0                                       0    im104_r  0.250212   25.254420   \n",
       "1                                       0    im104_r  0.250212   26.005057   \n",
       "2                                       0    im104_r  0.250208   26.755685   \n",
       "3                                       0    im104_r  0.250207   27.506307   \n",
       "4                                       0    im104_r  0.250213   28.256929   \n",
       "\n",
       "                            end_time  start_frame  end_frame  is_change  \\\n",
       "stimulus_presentations_id                                                 \n",
       "0                          25.504632           60         75      False   \n",
       "1                          26.255269          105        120      False   \n",
       "2                          27.005892          150        165      False   \n",
       "3                          27.756515          195        210      False   \n",
       "4                          28.507142          240        255      False   \n",
       "\n",
       "                           is_image_novel  omitted  flashes_since_change  \\\n",
       "stimulus_presentations_id                                                  \n",
       "0                                    True    False                     0   \n",
       "1                                    True    False                     1   \n",
       "2                                    True    False                     2   \n",
       "3                                    True    False                     3   \n",
       "4                                    True    False                     4   \n",
       "\n",
       "                           trials_id  rewarded  \\\n",
       "stimulus_presentations_id                        \n",
       "0                                  0     False   \n",
       "1                                  0     False   \n",
       "2                                  1     False   \n",
       "3                                  1     False   \n",
       "4                                  1     False   \n",
       "\n",
       "                                                         stimulus_name  \\\n",
       "stimulus_presentations_id                                                \n",
       "0                          Natural_Images_Lum_Matched_set_ophys_H_2019   \n",
       "1                          Natural_Images_Lum_Matched_set_ophys_H_2019   \n",
       "2                          Natural_Images_Lum_Matched_set_ophys_H_2019   \n",
       "3                          Natural_Images_Lum_Matched_set_ophys_H_2019   \n",
       "4                          Natural_Images_Lum_Matched_set_ophys_H_2019   \n",
       "\n",
       "                           position_y  temporal_frequency  is_sham_change  \\\n",
       "stimulus_presentations_id                                                   \n",
       "0                                 NaN                 NaN           False   \n",
       "1                                 NaN                 NaN           False   \n",
       "2                                 NaN                 NaN           False   \n",
       "3                                 NaN                 NaN           False   \n",
       "4                                 NaN                 NaN           False   \n",
       "\n",
       "                           stimulus_index  active  spatial_frequency  \\\n",
       "stimulus_presentations_id                                              \n",
       "0                                     -99    True                NaN   \n",
       "1                                     -99    True                NaN   \n",
       "2                                     -99    True                NaN   \n",
       "3                                     -99    True                NaN   \n",
       "4                                     -99    True                NaN   \n",
       "\n",
       "                           orientation  color  position_x  contrast  \n",
       "stimulus_presentations_id                                            \n",
       "0                                  NaN    NaN         NaN       NaN  \n",
       "1                                  NaN    NaN         NaN       NaN  \n",
       "2                                  NaN    NaN         NaN       NaN  \n",
       "3                                  NaN    NaN         NaN       NaN  \n",
       "4                                  NaN    NaN         NaN       NaN  "
      ]
     },
     "execution_count": 33,
     "metadata": {},
     "output_type": "execute_result"
    }
   ],
   "source": [
    "stim_table.head()"
   ]
  },
  {
   "cell_type": "code",
   "execution_count": 34,
   "id": "ad1e1df4-bf29-4f03-8c93-302aea78bf68",
   "metadata": {
    "tags": []
   },
   "outputs": [
    {
     "data": {
      "text/plain": [
       "13405"
      ]
     },
     "execution_count": 34,
     "metadata": {},
     "output_type": "execute_result"
    }
   ],
   "source": [
    "# How many stimulus presentations in session?\n",
    "len(stim_table)"
   ]
  },
  {
   "cell_type": "code",
   "execution_count": 35,
   "id": "9247589e-f2e6-443f-880e-13e9d06be21b",
   "metadata": {
    "tags": []
   },
   "outputs": [
    {
     "data": {
      "text/html": [
       "<div>\n",
       "<style scoped>\n",
       "    .dataframe tbody tr th:only-of-type {\n",
       "        vertical-align: middle;\n",
       "    }\n",
       "\n",
       "    .dataframe tbody tr th {\n",
       "        vertical-align: top;\n",
       "    }\n",
       "\n",
       "    .dataframe thead th {\n",
       "        text-align: right;\n",
       "    }\n",
       "</style>\n",
       "<table border=\"1\" class=\"dataframe\">\n",
       "  <thead>\n",
       "    <tr style=\"text-align: right;\">\n",
       "      <th></th>\n",
       "      <th>stimulus_block</th>\n",
       "      <th>image_name</th>\n",
       "      <th>duration</th>\n",
       "      <th>start_time</th>\n",
       "      <th>end_time</th>\n",
       "      <th>start_frame</th>\n",
       "      <th>end_frame</th>\n",
       "      <th>is_change</th>\n",
       "      <th>is_image_novel</th>\n",
       "      <th>omitted</th>\n",
       "      <th>flashes_since_change</th>\n",
       "      <th>trials_id</th>\n",
       "      <th>rewarded</th>\n",
       "      <th>stimulus_name</th>\n",
       "      <th>position_y</th>\n",
       "      <th>temporal_frequency</th>\n",
       "      <th>is_sham_change</th>\n",
       "      <th>stimulus_index</th>\n",
       "      <th>active</th>\n",
       "      <th>spatial_frequency</th>\n",
       "      <th>orientation</th>\n",
       "      <th>color</th>\n",
       "      <th>position_x</th>\n",
       "      <th>contrast</th>\n",
       "    </tr>\n",
       "    <tr>\n",
       "      <th>stimulus_presentations_id</th>\n",
       "      <th></th>\n",
       "      <th></th>\n",
       "      <th></th>\n",
       "      <th></th>\n",
       "      <th></th>\n",
       "      <th></th>\n",
       "      <th></th>\n",
       "      <th></th>\n",
       "      <th></th>\n",
       "      <th></th>\n",
       "      <th></th>\n",
       "      <th></th>\n",
       "      <th></th>\n",
       "      <th></th>\n",
       "      <th></th>\n",
       "      <th></th>\n",
       "      <th></th>\n",
       "      <th></th>\n",
       "      <th></th>\n",
       "      <th></th>\n",
       "      <th></th>\n",
       "      <th></th>\n",
       "      <th></th>\n",
       "      <th></th>\n",
       "    </tr>\n",
       "  </thead>\n",
       "  <tbody>\n",
       "    <tr>\n",
       "      <th>509</th>\n",
       "      <td>0</td>\n",
       "      <td>im083_r</td>\n",
       "      <td>0.250204</td>\n",
       "      <td>407.357158</td>\n",
       "      <td>407.607362</td>\n",
       "      <td>22967</td>\n",
       "      <td>22982</td>\n",
       "      <td>False</td>\n",
       "      <td>False</td>\n",
       "      <td>False</td>\n",
       "      <td>6</td>\n",
       "      <td>84</td>\n",
       "      <td>False</td>\n",
       "      <td>Natural_Images_Lum_Matched_set_ophys_H_2019</td>\n",
       "      <td>NaN</td>\n",
       "      <td>NaN</td>\n",
       "      <td>False</td>\n",
       "      <td>-99</td>\n",
       "      <td>True</td>\n",
       "      <td>NaN</td>\n",
       "      <td>NaN</td>\n",
       "      <td>NaN</td>\n",
       "      <td>NaN</td>\n",
       "      <td>NaN</td>\n",
       "    </tr>\n",
       "    <tr>\n",
       "      <th>510</th>\n",
       "      <td>0</td>\n",
       "      <td>im083_r</td>\n",
       "      <td>0.250215</td>\n",
       "      <td>408.107791</td>\n",
       "      <td>408.358006</td>\n",
       "      <td>23012</td>\n",
       "      <td>23027</td>\n",
       "      <td>False</td>\n",
       "      <td>False</td>\n",
       "      <td>False</td>\n",
       "      <td>7</td>\n",
       "      <td>84</td>\n",
       "      <td>False</td>\n",
       "      <td>Natural_Images_Lum_Matched_set_ophys_H_2019</td>\n",
       "      <td>NaN</td>\n",
       "      <td>NaN</td>\n",
       "      <td>False</td>\n",
       "      <td>-99</td>\n",
       "      <td>True</td>\n",
       "      <td>NaN</td>\n",
       "      <td>NaN</td>\n",
       "      <td>NaN</td>\n",
       "      <td>NaN</td>\n",
       "      <td>NaN</td>\n",
       "    </tr>\n",
       "    <tr>\n",
       "      <th>511</th>\n",
       "      <td>0</td>\n",
       "      <td>im083_r</td>\n",
       "      <td>0.250203</td>\n",
       "      <td>408.858422</td>\n",
       "      <td>409.108625</td>\n",
       "      <td>23057</td>\n",
       "      <td>23072</td>\n",
       "      <td>False</td>\n",
       "      <td>False</td>\n",
       "      <td>False</td>\n",
       "      <td>8</td>\n",
       "      <td>84</td>\n",
       "      <td>False</td>\n",
       "      <td>Natural_Images_Lum_Matched_set_ophys_H_2019</td>\n",
       "      <td>NaN</td>\n",
       "      <td>NaN</td>\n",
       "      <td>False</td>\n",
       "      <td>-99</td>\n",
       "      <td>True</td>\n",
       "      <td>NaN</td>\n",
       "      <td>NaN</td>\n",
       "      <td>NaN</td>\n",
       "      <td>NaN</td>\n",
       "      <td>NaN</td>\n",
       "    </tr>\n",
       "    <tr>\n",
       "      <th>512</th>\n",
       "      <td>0</td>\n",
       "      <td>im083_r</td>\n",
       "      <td>0.250217</td>\n",
       "      <td>409.609033</td>\n",
       "      <td>409.859250</td>\n",
       "      <td>23102</td>\n",
       "      <td>23117</td>\n",
       "      <td>False</td>\n",
       "      <td>False</td>\n",
       "      <td>False</td>\n",
       "      <td>9</td>\n",
       "      <td>84</td>\n",
       "      <td>False</td>\n",
       "      <td>Natural_Images_Lum_Matched_set_ophys_H_2019</td>\n",
       "      <td>NaN</td>\n",
       "      <td>NaN</td>\n",
       "      <td>False</td>\n",
       "      <td>-99</td>\n",
       "      <td>True</td>\n",
       "      <td>NaN</td>\n",
       "      <td>NaN</td>\n",
       "      <td>NaN</td>\n",
       "      <td>NaN</td>\n",
       "      <td>NaN</td>\n",
       "    </tr>\n",
       "    <tr>\n",
       "      <th>513</th>\n",
       "      <td>0</td>\n",
       "      <td>im083_r</td>\n",
       "      <td>0.250215</td>\n",
       "      <td>410.359684</td>\n",
       "      <td>410.609899</td>\n",
       "      <td>23147</td>\n",
       "      <td>23162</td>\n",
       "      <td>False</td>\n",
       "      <td>False</td>\n",
       "      <td>False</td>\n",
       "      <td>10</td>\n",
       "      <td>84</td>\n",
       "      <td>False</td>\n",
       "      <td>Natural_Images_Lum_Matched_set_ophys_H_2019</td>\n",
       "      <td>NaN</td>\n",
       "      <td>NaN</td>\n",
       "      <td>False</td>\n",
       "      <td>-99</td>\n",
       "      <td>True</td>\n",
       "      <td>NaN</td>\n",
       "      <td>NaN</td>\n",
       "      <td>NaN</td>\n",
       "      <td>NaN</td>\n",
       "      <td>NaN</td>\n",
       "    </tr>\n",
       "  </tbody>\n",
       "</table>\n",
       "</div>"
      ],
      "text/plain": [
       "                           stimulus_block image_name  duration  start_time  \\\n",
       "stimulus_presentations_id                                                    \n",
       "509                                     0    im083_r  0.250204  407.357158   \n",
       "510                                     0    im083_r  0.250215  408.107791   \n",
       "511                                     0    im083_r  0.250203  408.858422   \n",
       "512                                     0    im083_r  0.250217  409.609033   \n",
       "513                                     0    im083_r  0.250215  410.359684   \n",
       "\n",
       "                             end_time  start_frame  end_frame  is_change  \\\n",
       "stimulus_presentations_id                                                  \n",
       "509                        407.607362        22967      22982      False   \n",
       "510                        408.358006        23012      23027      False   \n",
       "511                        409.108625        23057      23072      False   \n",
       "512                        409.859250        23102      23117      False   \n",
       "513                        410.609899        23147      23162      False   \n",
       "\n",
       "                           is_image_novel  omitted  flashes_since_change  \\\n",
       "stimulus_presentations_id                                                  \n",
       "509                                 False    False                     6   \n",
       "510                                 False    False                     7   \n",
       "511                                 False    False                     8   \n",
       "512                                 False    False                     9   \n",
       "513                                 False    False                    10   \n",
       "\n",
       "                           trials_id  rewarded  \\\n",
       "stimulus_presentations_id                        \n",
       "509                               84     False   \n",
       "510                               84     False   \n",
       "511                               84     False   \n",
       "512                               84     False   \n",
       "513                               84     False   \n",
       "\n",
       "                                                         stimulus_name  \\\n",
       "stimulus_presentations_id                                                \n",
       "509                        Natural_Images_Lum_Matched_set_ophys_H_2019   \n",
       "510                        Natural_Images_Lum_Matched_set_ophys_H_2019   \n",
       "511                        Natural_Images_Lum_Matched_set_ophys_H_2019   \n",
       "512                        Natural_Images_Lum_Matched_set_ophys_H_2019   \n",
       "513                        Natural_Images_Lum_Matched_set_ophys_H_2019   \n",
       "\n",
       "                           position_y  temporal_frequency  is_sham_change  \\\n",
       "stimulus_presentations_id                                                   \n",
       "509                               NaN                 NaN           False   \n",
       "510                               NaN                 NaN           False   \n",
       "511                               NaN                 NaN           False   \n",
       "512                               NaN                 NaN           False   \n",
       "513                               NaN                 NaN           False   \n",
       "\n",
       "                           stimulus_index  active  spatial_frequency  \\\n",
       "stimulus_presentations_id                                              \n",
       "509                                   -99    True                NaN   \n",
       "510                                   -99    True                NaN   \n",
       "511                                   -99    True                NaN   \n",
       "512                                   -99    True                NaN   \n",
       "513                                   -99    True                NaN   \n",
       "\n",
       "                           orientation  color  position_x  contrast  \n",
       "stimulus_presentations_id                                            \n",
       "509                                NaN    NaN         NaN       NaN  \n",
       "510                                NaN    NaN         NaN       NaN  \n",
       "511                                NaN    NaN         NaN       NaN  \n",
       "512                                NaN    NaN         NaN       NaN  \n",
       "513                                NaN    NaN         NaN       NaN  "
      ]
     },
     "execution_count": 35,
     "metadata": {},
     "output_type": "execute_result"
    }
   ],
   "source": [
    "# Select stimuli presented during time period in raster plot\n",
    "stim_times = stim_table[(stim_table.start_time>raster_start_time) & (stim_table.start_time<raster_end_time)]\n",
    "stim_times.head()"
   ]
  },
  {
   "cell_type": "markdown",
   "id": "64221cbd-1e3c-413d-ad24-37f7766dcc64",
   "metadata": {},
   "source": [
    "## Plot stimulus presentations with raster plot"
   ]
  },
  {
   "cell_type": "code",
   "execution_count": 36,
   "id": "56477f11-a846-44d7-b4ae-7f07c68b1fa7",
   "metadata": {
    "tags": []
   },
   "outputs": [
    {
     "name": "stdout",
     "output_type": "stream",
     "text": [
      "['im083_r' 'im034_r' 'im104_r' 'omitted']\n"
     ]
    }
   ],
   "source": [
    "# What are the unique stimulus image names\n",
    "unique_stim = stim_times.image_name.unique()\n",
    "print(unique_stim)"
   ]
  },
  {
   "cell_type": "code",
   "execution_count": 37,
   "id": "73237e4a-6b5d-4121-879f-fef1812f2c4e",
   "metadata": {
    "tags": []
   },
   "outputs": [
    {
     "data": {
      "text/plain": [
       "{'im083_r': 'blue', 'im034_r': 'green', 'im104_r': 'purple', 'omitted': 'gray'}"
      ]
     },
     "execution_count": 37,
     "metadata": {},
     "output_type": "execute_result"
    }
   ],
   "source": [
    "# Map color to each image\n",
    "colors = ['blue','green','purple','gray']\n",
    "color_stim_dict = dict(zip(unique_stim,colors))\n",
    "color_stim_dict"
   ]
  },
  {
   "cell_type": "code",
   "execution_count": 38,
   "id": "594b8bcd-cc9c-4143-ab1e-e3cbf758b65b",
   "metadata": {
    "tags": []
   },
   "outputs": [
    {
     "data": {
      "image/png": "[encoded data removed]",
      "text/plain": [
       "<Figure size 1100x100 with 1 Axes>"
      ]
     },
     "metadata": {},
     "output_type": "display_data"
    }
   ],
   "source": [
    "plt.figure(figsize=(11,1))\n",
    "plt.eventplot(example_unit_spike_times,linewidth=0.75)\n",
    "\n",
    "plt.xlim(raster_start_time,raster_end_time)\n",
    "plt.xlabel('Seconds');\n",
    "\n",
    "for row in stim_times.iterrows():\n",
    "    t_start = row[1].start_time\n",
    "    plt.axvspan(t_start,t_start+0.25,alpha=0.3,color=color_stim_dict[row[1].image_name],lw=0)"
   ]
  },
  {
   "cell_type": "markdown",
   "id": "ab275a99-f55d-4185-802a-22058c46da5c",
   "metadata": {
    "tags": []
   },
   "source": [
    "## 6. Behavioral \"Trials\" table"
   ]
  },
  {
   "cell_type": "code",
   "execution_count": 39,
   "id": "5bb834a0-0272-49f9-9f7d-a821f8d0620a",
   "metadata": {
    "tags": []
   },
   "outputs": [
    {
     "data": {
      "text/html": [
       "<div>\n",
       "<style scoped>\n",
       "    .dataframe tbody tr th:only-of-type {\n",
       "        vertical-align: middle;\n",
       "    }\n",
       "\n",
       "    .dataframe tbody tr th {\n",
       "        vertical-align: top;\n",
       "    }\n",
       "\n",
       "    .dataframe thead th {\n",
       "        text-align: right;\n",
       "    }\n",
       "</style>\n",
       "<table border=\"1\" class=\"dataframe\">\n",
       "  <thead>\n",
       "    <tr style=\"text-align: right;\">\n",
       "      <th></th>\n",
       "      <th>start_time</th>\n",
       "      <th>stop_time</th>\n",
       "      <th>initial_image_name</th>\n",
       "      <th>change_image_name</th>\n",
       "      <th>is_change</th>\n",
       "      <th>change_time_no_display_delay</th>\n",
       "      <th>go</th>\n",
       "      <th>catch</th>\n",
       "      <th>lick_times</th>\n",
       "      <th>response_time</th>\n",
       "      <th>reward_time</th>\n",
       "      <th>reward_volume</th>\n",
       "      <th>hit</th>\n",
       "      <th>false_alarm</th>\n",
       "      <th>miss</th>\n",
       "      <th>correct_reject</th>\n",
       "      <th>aborted</th>\n",
       "      <th>auto_rewarded</th>\n",
       "      <th>change_frame</th>\n",
       "      <th>trial_length</th>\n",
       "    </tr>\n",
       "    <tr>\n",
       "      <th>trials_id</th>\n",
       "      <th></th>\n",
       "      <th></th>\n",
       "      <th></th>\n",
       "      <th></th>\n",
       "      <th></th>\n",
       "      <th></th>\n",
       "      <th></th>\n",
       "      <th></th>\n",
       "      <th></th>\n",
       "      <th></th>\n",
       "      <th></th>\n",
       "      <th></th>\n",
       "      <th></th>\n",
       "      <th></th>\n",
       "      <th></th>\n",
       "      <th></th>\n",
       "      <th></th>\n",
       "      <th></th>\n",
       "      <th></th>\n",
       "      <th></th>\n",
       "    </tr>\n",
       "  </thead>\n",
       "  <tbody>\n",
       "    <tr>\n",
       "      <th>0</th>\n",
       "      <td>25.20983</td>\n",
       "      <td>26.19343</td>\n",
       "      <td>im104_r</td>\n",
       "      <td>im104_r</td>\n",
       "      <td>False</td>\n",
       "      <td>NaN</td>\n",
       "      <td>False</td>\n",
       "      <td>False</td>\n",
       "      <td>[25.72637, 25.87602]</td>\n",
       "      <td>NaN</td>\n",
       "      <td>NaN</td>\n",
       "      <td>0.0</td>\n",
       "      <td>False</td>\n",
       "      <td>False</td>\n",
       "      <td>False</td>\n",
       "      <td>False</td>\n",
       "      <td>True</td>\n",
       "      <td>False</td>\n",
       "      <td>-99</td>\n",
       "      <td>0.98360</td>\n",
       "    </tr>\n",
       "    <tr>\n",
       "      <th>1</th>\n",
       "      <td>26.71046</td>\n",
       "      <td>28.34528</td>\n",
       "      <td>im104_r</td>\n",
       "      <td>im104_r</td>\n",
       "      <td>False</td>\n",
       "      <td>NaN</td>\n",
       "      <td>False</td>\n",
       "      <td>False</td>\n",
       "      <td>[28.02817]</td>\n",
       "      <td>NaN</td>\n",
       "      <td>NaN</td>\n",
       "      <td>0.0</td>\n",
       "      <td>False</td>\n",
       "      <td>False</td>\n",
       "      <td>False</td>\n",
       "      <td>False</td>\n",
       "      <td>True</td>\n",
       "      <td>False</td>\n",
       "      <td>-99</td>\n",
       "      <td>1.63482</td>\n",
       "    </tr>\n",
       "    <tr>\n",
       "      <th>2</th>\n",
       "      <td>28.96234</td>\n",
       "      <td>32.73245</td>\n",
       "      <td>im104_r</td>\n",
       "      <td>im104_r</td>\n",
       "      <td>False</td>\n",
       "      <td>NaN</td>\n",
       "      <td>False</td>\n",
       "      <td>False</td>\n",
       "      <td>[32.39844]</td>\n",
       "      <td>NaN</td>\n",
       "      <td>NaN</td>\n",
       "      <td>0.0</td>\n",
       "      <td>False</td>\n",
       "      <td>False</td>\n",
       "      <td>False</td>\n",
       "      <td>False</td>\n",
       "      <td>True</td>\n",
       "      <td>False</td>\n",
       "      <td>-99</td>\n",
       "      <td>3.77011</td>\n",
       "    </tr>\n",
       "    <tr>\n",
       "      <th>3</th>\n",
       "      <td>33.46618</td>\n",
       "      <td>35.85175</td>\n",
       "      <td>im104_r</td>\n",
       "      <td>im104_r</td>\n",
       "      <td>False</td>\n",
       "      <td>NaN</td>\n",
       "      <td>False</td>\n",
       "      <td>False</td>\n",
       "      <td>[35.53463]</td>\n",
       "      <td>NaN</td>\n",
       "      <td>NaN</td>\n",
       "      <td>0.0</td>\n",
       "      <td>False</td>\n",
       "      <td>False</td>\n",
       "      <td>False</td>\n",
       "      <td>False</td>\n",
       "      <td>True</td>\n",
       "      <td>False</td>\n",
       "      <td>-99</td>\n",
       "      <td>2.38557</td>\n",
       "    </tr>\n",
       "    <tr>\n",
       "      <th>4</th>\n",
       "      <td>36.46863</td>\n",
       "      <td>39.62138</td>\n",
       "      <td>im104_r</td>\n",
       "      <td>im104_r</td>\n",
       "      <td>False</td>\n",
       "      <td>NaN</td>\n",
       "      <td>False</td>\n",
       "      <td>False</td>\n",
       "      <td>[39.15441, 39.28716]</td>\n",
       "      <td>NaN</td>\n",
       "      <td>NaN</td>\n",
       "      <td>0.0</td>\n",
       "      <td>False</td>\n",
       "      <td>False</td>\n",
       "      <td>False</td>\n",
       "      <td>False</td>\n",
       "      <td>True</td>\n",
       "      <td>False</td>\n",
       "      <td>-99</td>\n",
       "      <td>3.15275</td>\n",
       "    </tr>\n",
       "  </tbody>\n",
       "</table>\n",
       "</div>"
      ],
      "text/plain": [
       "           start_time  stop_time initial_image_name change_image_name  \\\n",
       "trials_id                                                               \n",
       "0            25.20983   26.19343            im104_r           im104_r   \n",
       "1            26.71046   28.34528            im104_r           im104_r   \n",
       "2            28.96234   32.73245            im104_r           im104_r   \n",
       "3            33.46618   35.85175            im104_r           im104_r   \n",
       "4            36.46863   39.62138            im104_r           im104_r   \n",
       "\n",
       "           is_change  change_time_no_display_delay     go  catch  \\\n",
       "trials_id                                                          \n",
       "0              False                           NaN  False  False   \n",
       "1              False                           NaN  False  False   \n",
       "2              False                           NaN  False  False   \n",
       "3              False                           NaN  False  False   \n",
       "4              False                           NaN  False  False   \n",
       "\n",
       "                     lick_times  response_time  reward_time  reward_volume  \\\n",
       "trials_id                                                                    \n",
       "0          [25.72637, 25.87602]            NaN          NaN            0.0   \n",
       "1                    [28.02817]            NaN          NaN            0.0   \n",
       "2                    [32.39844]            NaN          NaN            0.0   \n",
       "3                    [35.53463]            NaN          NaN            0.0   \n",
       "4          [39.15441, 39.28716]            NaN          NaN            0.0   \n",
       "\n",
       "             hit  false_alarm   miss  correct_reject  aborted  auto_rewarded  \\\n",
       "trials_id                                                                      \n",
       "0          False        False  False           False     True          False   \n",
       "1          False        False  False           False     True          False   \n",
       "2          False        False  False           False     True          False   \n",
       "3          False        False  False           False     True          False   \n",
       "4          False        False  False           False     True          False   \n",
       "\n",
       "           change_frame  trial_length  \n",
       "trials_id                              \n",
       "0                   -99       0.98360  \n",
       "1                   -99       1.63482  \n",
       "2                   -99       3.77011  \n",
       "3                   -99       2.38557  \n",
       "4                   -99       3.15275  "
      ]
     },
     "execution_count": 39,
     "metadata": {},
     "output_type": "execute_result"
    }
   ],
   "source": [
    "trials = session.trials\n",
    "trials.head()"
   ]
  },
  {
   "cell_type": "markdown",
   "id": "4abf09a3-37cc-4762-b157-4dac69462862",
   "metadata": {},
   "source": [
    "## Plot behavior trial data on raster plot"
   ]
  },
  {
   "cell_type": "code",
   "execution_count": 40,
   "id": "58b37ce9-f20b-4bd1-8a0f-9859267a28ed",
   "metadata": {
    "tags": []
   },
   "outputs": [
    {
     "data": {
      "text/html": [
       "<div>\n",
       "<style scoped>\n",
       "    .dataframe tbody tr th:only-of-type {\n",
       "        vertical-align: middle;\n",
       "    }\n",
       "\n",
       "    .dataframe tbody tr th {\n",
       "        vertical-align: top;\n",
       "    }\n",
       "\n",
       "    .dataframe thead th {\n",
       "        text-align: right;\n",
       "    }\n",
       "</style>\n",
       "<table border=\"1\" class=\"dataframe\">\n",
       "  <thead>\n",
       "    <tr style=\"text-align: right;\">\n",
       "      <th></th>\n",
       "      <th>start_time</th>\n",
       "      <th>stop_time</th>\n",
       "      <th>initial_image_name</th>\n",
       "      <th>change_image_name</th>\n",
       "      <th>is_change</th>\n",
       "      <th>change_time_no_display_delay</th>\n",
       "      <th>go</th>\n",
       "      <th>catch</th>\n",
       "      <th>lick_times</th>\n",
       "      <th>response_time</th>\n",
       "      <th>reward_time</th>\n",
       "      <th>reward_volume</th>\n",
       "      <th>hit</th>\n",
       "      <th>false_alarm</th>\n",
       "      <th>miss</th>\n",
       "      <th>correct_reject</th>\n",
       "      <th>aborted</th>\n",
       "      <th>auto_rewarded</th>\n",
       "      <th>change_frame</th>\n",
       "      <th>trial_length</th>\n",
       "    </tr>\n",
       "    <tr>\n",
       "      <th>trials_id</th>\n",
       "      <th></th>\n",
       "      <th></th>\n",
       "      <th></th>\n",
       "      <th></th>\n",
       "      <th></th>\n",
       "      <th></th>\n",
       "      <th></th>\n",
       "      <th></th>\n",
       "      <th></th>\n",
       "      <th></th>\n",
       "      <th></th>\n",
       "      <th></th>\n",
       "      <th></th>\n",
       "      <th></th>\n",
       "      <th></th>\n",
       "      <th></th>\n",
       "      <th></th>\n",
       "      <th></th>\n",
       "      <th></th>\n",
       "      <th></th>\n",
       "    </tr>\n",
       "  </thead>\n",
       "  <tbody>\n",
       "    <tr>\n",
       "      <th>84</th>\n",
       "      <td>407.31176</td>\n",
       "      <td>416.08604</td>\n",
       "      <td>im083_r</td>\n",
       "      <td>im034_r</td>\n",
       "      <td>True</td>\n",
       "      <td>411.81641</td>\n",
       "      <td>True</td>\n",
       "      <td>False</td>\n",
       "      <td>[412.35003, 412.56598, 412.666, 412.78304, 412...</td>\n",
       "      <td>412.35003</td>\n",
       "      <td>412.35003</td>\n",
       "      <td>0.003</td>\n",
       "      <td>True</td>\n",
       "      <td>False</td>\n",
       "      <td>False</td>\n",
       "      <td>False</td>\n",
       "      <td>False</td>\n",
       "      <td>False</td>\n",
       "      <td>23237</td>\n",
       "      <td>8.77428</td>\n",
       "    </tr>\n",
       "    <tr>\n",
       "      <th>85</th>\n",
       "      <td>416.31925</td>\n",
       "      <td>425.09369</td>\n",
       "      <td>im034_r</td>\n",
       "      <td>im104_r</td>\n",
       "      <td>True</td>\n",
       "      <td>420.82354</td>\n",
       "      <td>True</td>\n",
       "      <td>False</td>\n",
       "      <td>[421.35757, 421.45691, 421.55675, 421.65716, 4...</td>\n",
       "      <td>421.35757</td>\n",
       "      <td>421.35757</td>\n",
       "      <td>0.003</td>\n",
       "      <td>True</td>\n",
       "      <td>False</td>\n",
       "      <td>False</td>\n",
       "      <td>False</td>\n",
       "      <td>False</td>\n",
       "      <td>False</td>\n",
       "      <td>23777</td>\n",
       "      <td>8.77444</td>\n",
       "    </tr>\n",
       "    <tr>\n",
       "      <th>86</th>\n",
       "      <td>425.32698</td>\n",
       "      <td>427.81279</td>\n",
       "      <td>im104_r</td>\n",
       "      <td>im104_r</td>\n",
       "      <td>False</td>\n",
       "      <td>NaN</td>\n",
       "      <td>False</td>\n",
       "      <td>False</td>\n",
       "      <td>[427.49546]</td>\n",
       "      <td>NaN</td>\n",
       "      <td>NaN</td>\n",
       "      <td>0.000</td>\n",
       "      <td>False</td>\n",
       "      <td>False</td>\n",
       "      <td>False</td>\n",
       "      <td>False</td>\n",
       "      <td>True</td>\n",
       "      <td>False</td>\n",
       "      <td>-99</td>\n",
       "      <td>2.48581</td>\n",
       "    </tr>\n",
       "  </tbody>\n",
       "</table>\n",
       "</div>"
      ],
      "text/plain": [
       "           start_time  stop_time initial_image_name change_image_name  \\\n",
       "trials_id                                                               \n",
       "84          407.31176  416.08604            im083_r           im034_r   \n",
       "85          416.31925  425.09369            im034_r           im104_r   \n",
       "86          425.32698  427.81279            im104_r           im104_r   \n",
       "\n",
       "           is_change  change_time_no_display_delay     go  catch  \\\n",
       "trials_id                                                          \n",
       "84              True                     411.81641   True  False   \n",
       "85              True                     420.82354   True  False   \n",
       "86             False                           NaN  False  False   \n",
       "\n",
       "                                                  lick_times  response_time  \\\n",
       "trials_id                                                                     \n",
       "84         [412.35003, 412.56598, 412.666, 412.78304, 412...      412.35003   \n",
       "85         [421.35757, 421.45691, 421.55675, 421.65716, 4...      421.35757   \n",
       "86                                               [427.49546]            NaN   \n",
       "\n",
       "           reward_time  reward_volume    hit  false_alarm   miss  \\\n",
       "trials_id                                                          \n",
       "84           412.35003          0.003   True        False  False   \n",
       "85           421.35757          0.003   True        False  False   \n",
       "86                 NaN          0.000  False        False  False   \n",
       "\n",
       "           correct_reject  aborted  auto_rewarded  change_frame  trial_length  \n",
       "trials_id                                                                      \n",
       "84                  False    False          False         23237       8.77428  \n",
       "85                  False    False          False         23777       8.77444  \n",
       "86                  False     True          False           -99       2.48581  "
      ]
     },
     "execution_count": 40,
     "metadata": {},
     "output_type": "execute_result"
    }
   ],
   "source": [
    "# Filter trials that occur during time window in our raster plot above\n",
    "trials_for_plot = trials[(trials.start_time>raster_start_time) & (trials.start_time<raster_end_time)]\n",
    "trials_for_plot"
   ]
  },
  {
   "cell_type": "code",
   "execution_count": 41,
   "id": "f751b2e0-1698-4691-8490-d2e6be2ca431",
   "metadata": {
    "tags": []
   },
   "outputs": [
    {
     "data": {
      "text/plain": [
       "array([412.35003, 412.56598, 412.666  , 412.78304, 412.89946, 413.01629,\n",
       "       413.13308, 413.26647, 413.39998, 413.51672, 413.65019, 413.96706,\n",
       "       421.35757, 421.45691, 421.55675, 421.65716, 421.75695, 421.87374,\n",
       "       421.99047, 422.10716, 422.2406 , 422.37416, 422.50751, 422.62421,\n",
       "       422.75773, 422.87475, 423.09138, 427.49546])"
      ]
     },
     "execution_count": 41,
     "metadata": {},
     "output_type": "execute_result"
    }
   ],
   "source": [
    "# Get lick times\n",
    "lick_times = trials_for_plot.lick_times.values\n",
    "lick_times = np.concatenate(lick_times) # Flatten array of arrays to 1D array\n",
    "lick_times"
   ]
  },
  {
   "cell_type": "code",
   "execution_count": 42,
   "id": "88df94c0-18dd-4036-bf36-bd211aeca7bc",
   "metadata": {
    "tags": []
   },
   "outputs": [
    {
     "data": {
      "text/plain": [
       "array([412.35003, 421.35757,       nan])"
      ]
     },
     "execution_count": 42,
     "metadata": {},
     "output_type": "execute_result"
    }
   ],
   "source": [
    "# Get reward times\n",
    "reward_times = trials_for_plot.reward_time.values\n",
    "reward_times"
   ]
  },
  {
   "cell_type": "code",
   "execution_count": 43,
   "id": "164ccf98-9a3d-4c31-b67a-697b2111b251",
   "metadata": {
    "tags": []
   },
   "outputs": [
    {
     "data": {
      "image/png": "[encoded data removed]",
      "text/plain": [
       "<Figure size 1100x100 with 1 Axes>"
      ]
     },
     "metadata": {},
     "output_type": "display_data"
    }
   ],
   "source": [
    "plt.figure(figsize=(11,1))\n",
    "\n",
    "# Plot spike train\n",
    "plt.eventplot(example_unit_spike_times,linewidth=0.75)\n",
    "\n",
    "# Plot stimulus times\n",
    "for row in stim_times.iterrows():\n",
    "    t_start = row[1].start_time\n",
    "    plt.axvspan(t_start,t_start+0.25,alpha=0.3,color=color_stim_dict[row[1].image_name],lw=0)\n",
    "\n",
    "# Plot lick and reward times\n",
    "plt.eventplot(lick_times,lineoffsets=2.5,color='black',linewidth=1)\n",
    "plt.plot(reward_times,np.ones_like(reward_times)*2.5,color='blue',marker='o',linestyle='');\n",
    "\n",
    "# Formatting\n",
    "plt.xlim(raster_start_time,raster_end_time)\n",
    "plt.xlabel('Seconds');"
   ]
  },
  {
   "cell_type": "markdown",
   "id": "d0c79e32-cccb-477b-9b6c-0517b6b49644",
   "metadata": {},
   "source": [
    "***Homework 1***\n",
    "\n"
   ]
  }
 ],
 "metadata": {
  "kernelspec": {
   "display_name": "Python 3 (ipykernel)",
   "language": "python",
   "name": "python3"
  },
  "language_info": {
   "codemirror_mode": {
    "name": "ipython",
    "version": 3
   },
   "file_extension": ".py",
   "mimetype": "text/x-python",
   "name": "python",
   "nbconvert_exporter": "python",
   "pygments_lexer": "ipython3",
   "version": "3.9.12"
  }
 },
 "nbformat": 4,
 "nbformat_minor": 5
}
