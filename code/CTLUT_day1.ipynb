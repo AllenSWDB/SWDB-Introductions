{
 "cells": [
  {
   "cell_type": "markdown",
   "id": "b29c57be-d224-449d-b67c-e956c1a5b152",
   "metadata": {},
   "source": [
    "This notebook provides examples of how to load, examine, and visualize electrophysiological data containing known cell types. This data comes from the Cell Type Lookup Table dataset, which contains **extracallular electrophysiological** data with specific cell types identified via **optotagging**."
   ]
  },
  {
   "cell_type": "code",
   "execution_count": 1,
   "id": "12b9abfb-1b77-4da3-b114-a4ac2b4dbd9f",
   "metadata": {
    "tags": []
   },
   "outputs": [],
   "source": [
    "from hdmf_zarr import NWBZarrIO\n",
    "import os"
   ]
  },
  {
   "cell_type": "markdown",
   "id": "365c7d65-fb1d-4ab6-858d-ee482c570bb0",
   "metadata": {},
   "source": [
    "Unlike other Allen Institute datasets, these data are stored as NWBs, with the metadata stored as jsons. We will be using hdmf_zarr to interact with this dataset."
   ]
  },
  {
   "cell_type": "markdown",
   "id": "5d94521b-0277-4521-b97e-fb997e65ec6f",
   "metadata": {},
   "source": [
    "## Load an NWB"
   ]
  },
  {
   "cell_type": "markdown",
   "id": "106c9cef-8f34-48fb-8f59-ca595a4d4a8c",
   "metadata": {},
   "source": [
    "Let's try loading and exploring one session's worth of data."
   ]
  },
  {
   "cell_type": "code",
   "execution_count": 2,
   "id": "b2a2d522-99c0-43ec-87fc-5f9b07f6f365",
   "metadata": {
    "tags": []
   },
   "outputs": [],
   "source": [
    "# an 'arbitrarily' selected session\n",
    "session = '661398_2023-04-03_15-47-29'\n",
    "session_directory = f'/data/SWDB 2024 CTLUT data/ecephys_{session}_nwb'\n",
    "\n",
    "nwb_file = os.path.join(session_directory, f'ecephys_{session}_experiment1_recording1.nwb.zarr')\n",
    "io = NWBZarrIO(nwb_file, \"r\")\n",
    "nwbfile_read = io.read()"
   ]
  },
  {
   "cell_type": "markdown",
   "id": "ec179a75-454a-4c2e-b371-9eb660df811f",
   "metadata": {},
   "source": [
    "You can use the **nwbwidgets** module to visually explore the contents of an nwb file."
   ]
  },
  {
   "cell_type": "code",
   "execution_count": 3,
   "id": "1cb973d7-d704-4a32-916f-adf5e373a225",
   "metadata": {
    "tags": []
   },
   "outputs": [
    {
     "ename": "ModuleNotFoundError",
     "evalue": "No module named 'nwbwidgets'",
     "output_type": "error",
     "traceback": [
      "\u001b[0;31m---------------------------------------------------------------------------\u001b[0m",
      "\u001b[0;31mModuleNotFoundError\u001b[0m                       Traceback (most recent call last)",
      "Cell \u001b[0;32mIn[3], line 1\u001b[0m\n\u001b[0;32m----> 1\u001b[0m \u001b[38;5;28;01mfrom\u001b[39;00m \u001b[38;5;21;01mnwbwidgets\u001b[39;00m \u001b[38;5;28;01mimport\u001b[39;00m nwb2widget\n\u001b[1;32m      2\u001b[0m nwb2widget(nwbfile_read)\n",
      "\u001b[0;31mModuleNotFoundError\u001b[0m: No module named 'nwbwidgets'"
     ]
    }
   ],
   "source": [
    "from nwbwidgets import nwb2widget\n",
    "nwb2widget(nwbfile_read)"
   ]
  },
  {
   "cell_type": "markdown",
   "id": "28bfd87d-dda0-47ee-aecd-5da80dffc3c9",
   "metadata": {},
   "source": [
    "## Load the units table"
   ]
  },
  {
   "cell_type": "markdown",
   "id": "83dd580c-e9ad-44ff-b0f1-b2d6e214b710",
   "metadata": {},
   "source": [
    "The units table contains all the \"neurons\" that were detected by the spike sorter (in this case, Kilosort 2.5). We usually refer to them as \"units\" because we can't actually be completely certain that the spike sorter output corresponds 1-to-1 to the actual neurons that were present at the time of the recording: this is just our best guess!"
   ]
  },
  {
   "cell_type": "code",
   "execution_count": null,
   "id": "14955fe1-c821-4990-8985-3bfd8f87b5b8",
   "metadata": {
    "tags": []
   },
   "outputs": [],
   "source": [
    "units = nwbfile_read.units[:]\n",
    "units.head()"
   ]
  },
  {
   "cell_type": "code",
   "execution_count": null,
   "id": "7ef026e1-ecc5-4960-898f-a6d3c62e97b9",
   "metadata": {
    "tags": []
   },
   "outputs": [],
   "source": [
    "units.columns"
   ]
  },
  {
   "cell_type": "markdown",
   "id": "e090e96e-2871-4d43-8914-98c09a857451",
   "metadata": {
    "tags": []
   },
   "source": [
    "You may notice this units table has a lot of columns! Many of these are quality metrics or laser response metrics, which are more fully explained in the databook. You can use these to filter out units that are unlikely to be real neurons or units whose data is too noisy for analysis. Among the most interesting columns is the **spike_times** column, which tells us every time point when this \"neuron\" fired an \"action potential.\""
   ]
  },
  {
   "cell_type": "markdown",
   "id": "edb7b688-b18c-4a02-aded-47e361e7b577",
   "metadata": {},
   "source": [
    "Let's try plotting all the units in a raster plot, to see what activity looked like prior to the laser stimulation!"
   ]
  },
  {
   "cell_type": "code",
   "execution_count": null,
   "id": "254960f7-95ed-4488-a517-03b5d1ca68cc",
   "metadata": {
    "tags": []
   },
   "outputs": [],
   "source": [
    "import numpy as np\n",
    "import matplotlib.pyplot as plt\n",
    "%matplotlib inline\n",
    "\n",
    "start_time = nwbfile_read.epochs.start_time[0]\n",
    "stop_time = nwbfile_read.epochs.stop_time[0]\n",
    "\n",
    "for unit_id, unit_row in units.iterrows():\n",
    "    unit_spiketimes = unit_row.spike_times\n",
    "    pre_stim_spiketimes = unit_spiketimes[unit_spiketimes<stop_time]\n",
    "    plt.plot(pre_stim_spiketimes, np.tile(unit_id, len(pre_stim_spiketimes)), 'k.', ms=1, alpha=0.1)\n",
    "    \n",
    "plt.xlabel('Time (s)')\n",
    "plt.ylabel('Unit ID')"
   ]
  },
  {
   "cell_type": "markdown",
   "id": "ca3602af-787b-439c-90f7-b906840cf36d",
   "metadata": {},
   "source": [
    "However, a lot of these \"neurons\" are probably noise or artifacts. We can use some of the quality metrics contained in the units table to filter out some of the \"bad\" \"neurons.\" A common way to curate units is by the amount of ISI (interspike interval) violations. Neurons physiologically can not spike more often than every 2 ms, so a high ratio of \"spikes\" that happen less than 2 ms apart is a good indicator that this unit is not a real neuron (or, at least, not a *single* neuron).\n",
    "\n",
    "Another way units are curated is by visually inspecting the spike waveforms to determine if they look like action potentials or just electrical noise. This table contains the results on someone's manual curation of the waveforms in the column *noise_label*."
   ]
  },
  {
   "cell_type": "code",
   "execution_count": null,
   "id": "c39b81b9-b8c4-43ff-aeb5-92338c318a9e",
   "metadata": {
    "tags": []
   },
   "outputs": [],
   "source": [
    "# query the units table to get units with good waveforms and low ISI violations!\n",
    "good_units = units.query(\"isi_violations_ratio < 0.5 and noise_label == 'good'\")\n",
    "\n",
    "# and now plot only the \"good\" units\n",
    "for unit_id, unit_row in good_units.iterrows():\n",
    "    unit_spiketimes = unit_row.spike_times\n",
    "    pre_stim_spiketimes = unit_spiketimes[unit_spiketimes<stop_time]\n",
    "    plt.plot(pre_stim_spiketimes, np.tile(unit_id, len(pre_stim_spiketimes)), 'k.', ms=1, alpha=0.1)\n",
    "    \n",
    "plt.xlabel('Time (s)')\n",
    "plt.ylabel('Unit ID')"
   ]
  },
  {
   "cell_type": "markdown",
   "id": "59cd1def-91a6-44ce-aa01-4a897c8c2895",
   "metadata": {},
   "source": [
    "**Task 1**: The most common standard QC criteria used at the Allen Institute are isi_violations_ratio < 0.5, amplitude_cutoff < 0.1, and presense_ratio > 0.8. Try querying for all three of these criteria and plotting the resulting *really* good units!"
   ]
  },
  {
   "cell_type": "markdown",
   "id": "a2b49734-abfa-42da-b7be-6574e77c5703",
   "metadata": {},
   "source": [
    "Many of these nwb files also contain units from multiple probes concatenated together. Let's see how many probes were used in this recording."
   ]
  },
  {
   "cell_type": "code",
   "execution_count": null,
   "id": "41f7e258-d9bc-4711-aeb5-80819582a952",
   "metadata": {
    "tags": []
   },
   "outputs": [],
   "source": [
    "probes = np.unique(units.device_name)\n",
    "probes"
   ]
  },
  {
   "cell_type": "markdown",
   "id": "f8e910d1-2920-40ad-b7e6-ac7ad787184e",
   "metadata": {},
   "source": [
    "It might be more useful to have separate plots for the two probes."
   ]
  },
  {
   "cell_type": "code",
   "execution_count": null,
   "id": "496456b6-4af7-4bf9-90ac-3ab8763249f4",
   "metadata": {
    "tags": []
   },
   "outputs": [],
   "source": [
    "for ind_probe, probe in enumerate(probes):\n",
    "    plt.subplot(1,2,ind_probe+1)\n",
    "    this_probe_units = good_units.query(\"device_name == @probe\")\n",
    "    \n",
    "    for unit_id, unit_row in this_probe_units.iterrows():\n",
    "        unit_spiketimes = unit_row.spike_times\n",
    "        pre_stim_spiketimes = unit_spiketimes[unit_spiketimes<stop_time]\n",
    "        plt.plot(pre_stim_spiketimes, np.tile(unit_id, len(pre_stim_spiketimes)), 'k.', ms=1, alpha=0.1)\n",
    "        plt.title(probe)"
   ]
  },
  {
   "cell_type": "markdown",
   "id": "f7038c7f-b019-4b94-87c8-87078d4a0c05",
   "metadata": {},
   "source": [
    "**Task 2**: The *peak_channel* column contains the electrode closest to the unit, as determined by the peak waveform. This gives us a location for the unit. Try plotting the above rasters with *peak_channel* as the y-axis rather than *unit_id*, which is assigned somewhat arbitrarily!"
   ]
  },
  {
   "cell_type": "markdown",
   "id": "f9c1c8c5-424b-47d1-956c-e1ba6576ac7a",
   "metadata": {},
   "source": [
    "## Identify tagged units"
   ]
  },
  {
   "cell_type": "markdown",
   "id": "6dc15eb6-54df-4ab7-8d8b-14ab3a64e548",
   "metadata": {},
   "source": [
    "During this experiment, known cell types were identified by their responses to pulses of laser. You can learn more about this technique in the databook page on Optotagging! The units table contains laser response metrics for every units, as well as a predicted cell type label. Let's try filtering the units table by cell type!"
   ]
  },
  {
   "cell_type": "code",
   "execution_count": null,
   "id": "0124a4b7-d816-4db9-9517-2a6bd89a80e4",
   "metadata": {
    "tags": []
   },
   "outputs": [],
   "source": [
    "np.unique(units.predicted_cell_type)"
   ]
  },
  {
   "cell_type": "markdown",
   "id": "4f9fc4b8-65ec-4ca9-aaf0-401b09cd6210",
   "metadata": {},
   "source": [
    "This experiment was tagging D1 and D2 medium spiny neurons in the striatum! We can filter the units table for units for which we have a predicted cell type. Note that just because a unit is labeled as \"untagged,\" that does not guarantee it *isn't* a D1 or D2 cell. We just don't know what it is."
   ]
  },
  {
   "cell_type": "code",
   "execution_count": null,
   "id": "2d73186c-d307-40de-983a-405b7a3eb2f0",
   "metadata": {
    "tags": []
   },
   "outputs": [],
   "source": [
    "tagged_units = units.query(\"predicted_cell_type != 'untagged'\")\n",
    "tagged_units.head()"
   ]
  },
  {
   "cell_type": "markdown",
   "id": "bf7e3f2c-168d-45cf-8797-c5bb437ed1e8",
   "metadata": {},
   "source": [
    "Let's see what the activity of just these units looks like!"
   ]
  },
  {
   "cell_type": "code",
   "execution_count": null,
   "id": "71eb2905-285b-47a6-acc9-3ccc076215b7",
   "metadata": {
    "tags": []
   },
   "outputs": [],
   "source": [
    "cell_type_colors = {'D1' : 'skyblue', 'D2' : 'tomato'}\n",
    "\n",
    "for ind, (unit_id, unit_row) in enumerate(tagged_units.iterrows()):\n",
    "    unit_spiketimes = unit_row.spike_times\n",
    "    pre_stim_spiketimes = unit_spiketimes[unit_spiketimes<stop_time]\n",
    "\n",
    "    # let's try making a psth of the response instead of a raster!\n",
    "    bin_length = 5\n",
    "    time_bins = np.arange(np.floor(start_time),np.ceil(stop_time),bin_length)\n",
    "    h,v = np.histogram(unit_spiketimes, time_bins)\n",
    "    plt.plot(v[:-1],h/bin_length, color=cell_type_colors[unit_row.predicted_cell_type])\n",
    "    \n",
    "plt.xlabel('Time (s)')\n",
    "plt.ylabel('Firing rate (spikes/s)')"
   ]
  },
  {
   "cell_type": "markdown",
   "id": "919907c4-78a6-465f-8aec-72330e21a339",
   "metadata": {
    "tags": []
   },
   "source": [
    "**Task 3**: cell type predictions are based only on the unit's laser reponses, not the quality of the unit. There's a good chance many of these are laser artifacts or other types of noise or multiunit activity. Try further filtering the units table for tagged, *quality* units."
   ]
  },
  {
   "cell_type": "markdown",
   "id": "e148243e-762a-457e-a4d2-b9134a0750d2",
   "metadata": {},
   "source": [
    "## Load running speed"
   ]
  },
  {
   "cell_type": "markdown",
   "id": "3671c31e-7054-4102-8b2e-bf86304bae4c",
   "metadata": {},
   "source": [
    "Some behavioral data was collected during this experiment in addition to the physiology. For instance, the mouse was on a running wheel with an encoder, and so we recorded the mouse's running speed for the entire experiment. Let's try loading that data!"
   ]
  },
  {
   "cell_type": "code",
   "execution_count": null,
   "id": "a5447c53-ad4a-4dea-bcc7-8de8cf737e35",
   "metadata": {
    "tags": []
   },
   "outputs": [],
   "source": [
    "running = nwbfile_read.processing['behavior']['BehavioralTimeSeries']['linear velocity']\n",
    "running_speed = np.array(running.data)\n",
    "running_timestamps = np.array(running.timestamps)"
   ]
  },
  {
   "cell_type": "code",
   "execution_count": null,
   "id": "176c72f5-5bcc-4a54-a411-a57a8fc1a41e",
   "metadata": {
    "tags": []
   },
   "outputs": [],
   "source": [
    "# plot the running speed for the same time period as the rasters above\n",
    "pre_stim_timestamps = running_timestamps[running_timestamps < stop_time]\n",
    "pre_stim_speed = running_speed[running_timestamps < stop_time]\n",
    "\n",
    "plt.plot(pre_stim_timestamps, pre_stim_speed)"
   ]
  },
  {
   "cell_type": "markdown",
   "id": "6d38e4f7-d8d9-4ff7-aa41-83842525c5ba",
   "metadata": {},
   "source": [
    "**Task 4**: Try plotting the running speed and the units raster in the same figure with a shared x-axis. Does any of the neuronal activity seem related to the mouse's movement?"
   ]
  },
  {
   "cell_type": "code",
   "execution_count": null,
   "id": "61093ae8-98a6-43ee-8422-b919777ae78f",
   "metadata": {},
   "outputs": [],
   "source": []
  }
 ],
 "metadata": {
  "kernelspec": {
   "display_name": "Python 3 (ipykernel)",
   "language": "python",
   "name": "python3"
  },
  "language_info": {
   "codemirror_mode": {
    "name": "ipython",
    "version": 3
   },
   "file_extension": ".py",
   "mimetype": "text/x-python",
   "name": "python",
   "nbconvert_exporter": "python",
   "pygments_lexer": "ipython3",
   "version": "3.9.12"
  }
 },
 "nbformat": 4,
 "nbformat_minor": 5
}
